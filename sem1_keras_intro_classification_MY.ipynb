{
  "nbformat": 4,
  "nbformat_minor": 0,
  "metadata": {
    "kernelspec": {
      "display_name": "Python 3",
      "language": "python",
      "name": "python3"
    },
    "language_info": {
      "codemirror_mode": {
        "name": "ipython",
        "version": 3
      },
      "file_extension": ".py",
      "mimetype": "text/x-python",
      "name": "python",
      "nbconvert_exporter": "python",
      "pygments_lexer": "ipython3",
      "version": "3.7.4"
    },
    "colab": {
      "name": "sem1_keras_intro_classification_MY.ipynb",
      "provenance": [],
      "include_colab_link": true
    }
  },
  "cells": [
    {
      "cell_type": "markdown",
      "metadata": {
        "id": "view-in-github",
        "colab_type": "text"
      },
      "source": [
        "<a href=\"https://colab.research.google.com/github/myagremtsev/RiskManagementDL_Autumn21/blob/main/sem1_keras_intro_classification_MY.ipynb\" target=\"_parent\"><img src=\"https://colab.research.google.com/assets/colab-badge.svg\" alt=\"Open In Colab\"/></a>"
      ]
    },
    {
      "cell_type": "markdown",
      "metadata": {
        "id": "yuv_wfrBajYN"
      },
      "source": [
        "# Простейшие нейронные сети с Keras\n",
        "\n",
        "\n",
        "Одним из фрэймворком для обучения нейросеток на нашем курсе будет Tensorflow. Сейчас актуальна вторая версия фраемворка, которая глобально отличается от первой./ \n",
        "\n",
        "Одна из особенностей новой версии заключается в том, что Keras (раньше он был посторонней библиотекой-надстройкой) фактически [стал частью tensorflow.](https://www.tensorflow.org/guide/keras?hl=ru)  \n",
        "\n",
        "Изначально Keras создавался как высокоуровневое API для theano (это когда написали кучу функций один раз, красиво их назвали и завернули в пакет). Потом он начал поддерживать tensorflow, а сейчас вот чуть ли ни аннексия произошла. __Keras наш.__ Именно со знакомства с ним мы и начнём наше погружение в нейросетки.  \n",
        "\n",
        "Чтобы установить библиотеку, отправляйтесь в консоль и пропишите \n",
        "\n",
        "```\n",
        "pip install tensorflow\n",
        "```\n",
        "\n",
        "Если вы до этого сидели на старой версии tensorflow, на всякий случай снесите её. Иначе при установке могут возникнуть какие-нибудь несовместимости и ошибки."
      ]
    },
    {
      "cell_type": "code",
      "metadata": {
        "id": "KkIjv34UajYW"
      },
      "source": [
        "import warnings\n",
        "warnings.filterwarnings(\"ignore\")"
      ],
      "execution_count": null,
      "outputs": []
    },
    {
      "cell_type": "code",
      "metadata": {
        "id": "AAR7r8mbajYZ",
        "colab": {
          "base_uri": "https://localhost:8080/"
        },
        "outputId": "a3d54744-1d78-47c8-f552-8e98672447f0"
      },
      "source": [
        "# Подгружаем tensorflow \n",
        "import tensorflow as tf\n",
        "import tensorflow.keras as keras\n",
        "\n",
        "\n",
        "print(tf.__version__)\n"
      ],
      "execution_count": null,
      "outputs": [
        {
          "output_type": "stream",
          "name": "stdout",
          "text": [
            "2.6.0\n"
          ]
        }
      ]
    },
    {
      "cell_type": "code",
      "metadata": {
        "id": "JA40S6ZGajYc"
      },
      "source": [
        "# Подгрузим ещё немного пакетов :) \n",
        "import numpy as np\n",
        "import pandas as pd\n",
        "\n",
        "import seaborn as sns\n",
        "import matplotlib.pyplot as plt\n",
        "plt.style.use('ggplot')\n",
        "\n",
        "%matplotlib inline"
      ],
      "execution_count": null,
      "outputs": []
    },
    {
      "cell_type": "markdown",
      "metadata": {
        "id": "kSZ6JgR8ajYd"
      },
      "source": [
        "## 1. О данных и бэйзлайнах\n",
        "\n",
        "Наша главная цель - как следует потрогать Keras своими ручищами. Мы хотим увидеть, что он реально позволяет обращаться с нейронками как с конструктором LEGO и предлагает нам для сборки башен кучу деталей. \n",
        "\n",
        "__Делать всё это мы будем на животных.__ Ежегодно около 7.6 миллионов бедных животных в США оказываются в приютах. Часть из них находит себе новую семью, часть возвращается к старому (бывает, что питомец потерялся и его нашли на улице), а часть погибает. Ужегодно усыпляется около 2.7 млн. собак и кошек.  \n",
        "\n",
        "Используя датасет с входной информацией (цвет, пол, возраст и т.п.) из одного из приютов, мы попытаемся спрогнозировать что произойдёт с новыми животными, которые попадут в этот приют. Данные, используемые в тетрадке уже были предварительно обработаны и приведены в удобную для построения моделей форму. "
      ]
    },
    {
      "cell_type": "code",
      "metadata": {
        "id": "SPcrQ-o2ajYf",
        "colab": {
          "base_uri": "https://localhost:8080/",
          "height": 278
        },
        "outputId": "a91d29dd-d955-4024-d544-d46f06e0c081"
      },
      "source": [
        "X = pd.read_csv('/content/RiskManagementDL_Autumn21/week01/data/X_cat.csv', sep = '\\t', index_col=0)\n",
        "target = pd.read_csv('/content/RiskManagementDL_Autumn21/week01/data/y_cat.csv', sep = '\\t', index_col=0, names=['status'])\n",
        "\n",
        "print(X.shape)\n",
        "X.head()"
      ],
      "execution_count": null,
      "outputs": [
        {
          "output_type": "stream",
          "name": "stdout",
          "text": [
            "(26729, 37)\n"
          ]
        },
        {
          "output_type": "execute_result",
          "data": {
            "text/html": [
              "<div>\n",
              "<style scoped>\n",
              "    .dataframe tbody tr th:only-of-type {\n",
              "        vertical-align: middle;\n",
              "    }\n",
              "\n",
              "    .dataframe tbody tr th {\n",
              "        vertical-align: top;\n",
              "    }\n",
              "\n",
              "    .dataframe thead th {\n",
              "        text-align: right;\n",
              "    }\n",
              "</style>\n",
              "<table border=\"1\" class=\"dataframe\">\n",
              "  <thead>\n",
              "    <tr style=\"text-align: right;\">\n",
              "      <th></th>\n",
              "      <th>IsDog</th>\n",
              "      <th>Age</th>\n",
              "      <th>HasName</th>\n",
              "      <th>NameLength</th>\n",
              "      <th>NameFreq</th>\n",
              "      <th>MixColor</th>\n",
              "      <th>ColorFreqAsIs</th>\n",
              "      <th>ColorFreqBase</th>\n",
              "      <th>TabbyColor</th>\n",
              "      <th>MixBreed</th>\n",
              "      <th>Domestic</th>\n",
              "      <th>Shorthair</th>\n",
              "      <th>Longhair</th>\n",
              "      <th>Year</th>\n",
              "      <th>Month</th>\n",
              "      <th>Day</th>\n",
              "      <th>Hour</th>\n",
              "      <th>Breed_Chihuahua Shorthair Mix</th>\n",
              "      <th>Breed_Domestic Medium Hair Mix</th>\n",
              "      <th>Breed_Domestic Shorthair Mix</th>\n",
              "      <th>Breed_German Shepherd Mix</th>\n",
              "      <th>Breed_Labrador Retriever Mix</th>\n",
              "      <th>Breed_Pit Bull Mix</th>\n",
              "      <th>Breed_Rare</th>\n",
              "      <th>Sex_Female</th>\n",
              "      <th>Sex_Male</th>\n",
              "      <th>Sex_Unknown</th>\n",
              "      <th>SexStatus_Flawed</th>\n",
              "      <th>SexStatus_Intact</th>\n",
              "      <th>SexStatus_Unknown</th>\n",
              "      <th>Weekday_0</th>\n",
              "      <th>Weekday_1</th>\n",
              "      <th>Weekday_2</th>\n",
              "      <th>Weekday_3</th>\n",
              "      <th>Weekday_4</th>\n",
              "      <th>Weekday_5</th>\n",
              "      <th>Weekday_6</th>\n",
              "    </tr>\n",
              "  </thead>\n",
              "  <tbody>\n",
              "    <tr>\n",
              "      <th>0</th>\n",
              "      <td>1</td>\n",
              "      <td>365.0</td>\n",
              "      <td>1</td>\n",
              "      <td>7</td>\n",
              "      <td>0.000157</td>\n",
              "      <td>1</td>\n",
              "      <td>0.032919</td>\n",
              "      <td>0.463624</td>\n",
              "      <td>0</td>\n",
              "      <td>1</td>\n",
              "      <td>0</td>\n",
              "      <td>0</td>\n",
              "      <td>0</td>\n",
              "      <td>2014</td>\n",
              "      <td>2</td>\n",
              "      <td>12</td>\n",
              "      <td>14.366667</td>\n",
              "      <td>0</td>\n",
              "      <td>0</td>\n",
              "      <td>0</td>\n",
              "      <td>0</td>\n",
              "      <td>0</td>\n",
              "      <td>0</td>\n",
              "      <td>1</td>\n",
              "      <td>0</td>\n",
              "      <td>1</td>\n",
              "      <td>0</td>\n",
              "      <td>1</td>\n",
              "      <td>0</td>\n",
              "      <td>0</td>\n",
              "      <td>0</td>\n",
              "      <td>0</td>\n",
              "      <td>1</td>\n",
              "      <td>0</td>\n",
              "      <td>0</td>\n",
              "      <td>0</td>\n",
              "      <td>0</td>\n",
              "    </tr>\n",
              "    <tr>\n",
              "      <th>1</th>\n",
              "      <td>0</td>\n",
              "      <td>365.0</td>\n",
              "      <td>1</td>\n",
              "      <td>5</td>\n",
              "      <td>0.000655</td>\n",
              "      <td>0</td>\n",
              "      <td>0.008092</td>\n",
              "      <td>0.015005</td>\n",
              "      <td>1</td>\n",
              "      <td>1</td>\n",
              "      <td>1</td>\n",
              "      <td>1</td>\n",
              "      <td>0</td>\n",
              "      <td>2013</td>\n",
              "      <td>10</td>\n",
              "      <td>13</td>\n",
              "      <td>8.733333</td>\n",
              "      <td>0</td>\n",
              "      <td>0</td>\n",
              "      <td>1</td>\n",
              "      <td>0</td>\n",
              "      <td>0</td>\n",
              "      <td>0</td>\n",
              "      <td>0</td>\n",
              "      <td>1</td>\n",
              "      <td>0</td>\n",
              "      <td>0</td>\n",
              "      <td>1</td>\n",
              "      <td>0</td>\n",
              "      <td>0</td>\n",
              "      <td>0</td>\n",
              "      <td>0</td>\n",
              "      <td>0</td>\n",
              "      <td>0</td>\n",
              "      <td>0</td>\n",
              "      <td>0</td>\n",
              "      <td>1</td>\n",
              "    </tr>\n",
              "    <tr>\n",
              "      <th>2</th>\n",
              "      <td>1</td>\n",
              "      <td>730.0</td>\n",
              "      <td>1</td>\n",
              "      <td>6</td>\n",
              "      <td>0.000052</td>\n",
              "      <td>1</td>\n",
              "      <td>0.026293</td>\n",
              "      <td>0.357521</td>\n",
              "      <td>0</td>\n",
              "      <td>1</td>\n",
              "      <td>0</td>\n",
              "      <td>0</td>\n",
              "      <td>0</td>\n",
              "      <td>2015</td>\n",
              "      <td>1</td>\n",
              "      <td>31</td>\n",
              "      <td>9.466667</td>\n",
              "      <td>0</td>\n",
              "      <td>0</td>\n",
              "      <td>0</td>\n",
              "      <td>0</td>\n",
              "      <td>0</td>\n",
              "      <td>1</td>\n",
              "      <td>0</td>\n",
              "      <td>0</td>\n",
              "      <td>1</td>\n",
              "      <td>0</td>\n",
              "      <td>1</td>\n",
              "      <td>0</td>\n",
              "      <td>0</td>\n",
              "      <td>0</td>\n",
              "      <td>0</td>\n",
              "      <td>0</td>\n",
              "      <td>0</td>\n",
              "      <td>0</td>\n",
              "      <td>1</td>\n",
              "      <td>0</td>\n",
              "    </tr>\n",
              "    <tr>\n",
              "      <th>3</th>\n",
              "      <td>0</td>\n",
              "      <td>21.0</td>\n",
              "      <td>0</td>\n",
              "      <td>7</td>\n",
              "      <td>0.285871</td>\n",
              "      <td>0</td>\n",
              "      <td>0.000471</td>\n",
              "      <td>0.058418</td>\n",
              "      <td>0</td>\n",
              "      <td>1</td>\n",
              "      <td>1</td>\n",
              "      <td>1</td>\n",
              "      <td>0</td>\n",
              "      <td>2014</td>\n",
              "      <td>7</td>\n",
              "      <td>11</td>\n",
              "      <td>15.150000</td>\n",
              "      <td>0</td>\n",
              "      <td>0</td>\n",
              "      <td>1</td>\n",
              "      <td>0</td>\n",
              "      <td>0</td>\n",
              "      <td>0</td>\n",
              "      <td>0</td>\n",
              "      <td>0</td>\n",
              "      <td>1</td>\n",
              "      <td>0</td>\n",
              "      <td>0</td>\n",
              "      <td>1</td>\n",
              "      <td>0</td>\n",
              "      <td>0</td>\n",
              "      <td>0</td>\n",
              "      <td>0</td>\n",
              "      <td>0</td>\n",
              "      <td>1</td>\n",
              "      <td>0</td>\n",
              "      <td>0</td>\n",
              "    </tr>\n",
              "    <tr>\n",
              "      <th>4</th>\n",
              "      <td>1</td>\n",
              "      <td>730.0</td>\n",
              "      <td>0</td>\n",
              "      <td>7</td>\n",
              "      <td>0.285871</td>\n",
              "      <td>0</td>\n",
              "      <td>0.023831</td>\n",
              "      <td>0.075353</td>\n",
              "      <td>0</td>\n",
              "      <td>0</td>\n",
              "      <td>0</td>\n",
              "      <td>0</td>\n",
              "      <td>0</td>\n",
              "      <td>2013</td>\n",
              "      <td>11</td>\n",
              "      <td>15</td>\n",
              "      <td>8.866667</td>\n",
              "      <td>0</td>\n",
              "      <td>0</td>\n",
              "      <td>0</td>\n",
              "      <td>0</td>\n",
              "      <td>0</td>\n",
              "      <td>0</td>\n",
              "      <td>1</td>\n",
              "      <td>0</td>\n",
              "      <td>1</td>\n",
              "      <td>0</td>\n",
              "      <td>1</td>\n",
              "      <td>0</td>\n",
              "      <td>0</td>\n",
              "      <td>0</td>\n",
              "      <td>0</td>\n",
              "      <td>0</td>\n",
              "      <td>0</td>\n",
              "      <td>1</td>\n",
              "      <td>0</td>\n",
              "      <td>0</td>\n",
              "    </tr>\n",
              "  </tbody>\n",
              "</table>\n",
              "</div>"
            ],
            "text/plain": [
              "   IsDog    Age  HasName  ...  Weekday_4  Weekday_5  Weekday_6\n",
              "0      1  365.0        1  ...          0          0          0\n",
              "1      0  365.0        1  ...          0          0          1\n",
              "2      1  730.0        1  ...          0          1          0\n",
              "3      0   21.0        0  ...          1          0          0\n",
              "4      1  730.0        0  ...          1          0          0\n",
              "\n",
              "[5 rows x 37 columns]"
            ]
          },
          "metadata": {},
          "execution_count": 6
        }
      ]
    },
    {
      "cell_type": "markdown",
      "metadata": {
        "id": "d95HdlJfajYg"
      },
      "source": [
        "В датасете находится около 27 тысяч наблюдений и 39 регрессоров. Посмотрим на то как выглядит распределение того, что произошло со зверятами по особям."
      ]
    },
    {
      "cell_type": "code",
      "metadata": {
        "id": "KmbTDmD0ajYh",
        "colab": {
          "base_uri": "https://localhost:8080/"
        },
        "outputId": "27f56165-2f40-4fed-c154-7b355c9cdcb6"
      },
      "source": [
        "target.status.value_counts()"
      ],
      "execution_count": null,
      "outputs": [
        {
          "output_type": "execute_result",
          "data": {
            "text/plain": [
              "Adoption           10769\n",
              "Transfer            9422\n",
              "Return_to_owner     4786\n",
              "Euthanasia          1555\n",
              "Died                 197\n",
              "Name: status, dtype: int64"
            ]
          },
          "metadata": {},
          "execution_count": 7
        }
      ]
    },
    {
      "cell_type": "markdown",
      "metadata": {
        "id": "pJufNppnajYi"
      },
      "source": [
        "Видим, что классы несбалансированы. Попробуем оставит четыре класса и объединить класс умерших животных с классом животных, которых усыпили. "
      ]
    },
    {
      "cell_type": "code",
      "metadata": {
        "id": "0HvTUCtIajYl"
      },
      "source": [
        "target = target.values\n",
        "target[target == 'Died'] = 'Euthanasia'"
      ],
      "execution_count": null,
      "outputs": []
    },
    {
      "cell_type": "markdown",
      "metadata": {
        "id": "5Q5D1gjkajYm"
      },
      "source": [
        "Закодируем классы."
      ]
    },
    {
      "cell_type": "code",
      "metadata": {
        "id": "kdC7GfGsajYo",
        "colab": {
          "base_uri": "https://localhost:8080/"
        },
        "outputId": "080b97af-2c6c-47f7-e544-45f7f0ec266d"
      },
      "source": [
        "from sklearn.preprocessing import LabelEncoder\n",
        "le = LabelEncoder()\n",
        "y = le.fit_transform(target)\n",
        "y"
      ],
      "execution_count": null,
      "outputs": [
        {
          "output_type": "execute_result",
          "data": {
            "text/plain": [
              "array([2, 1, 0, ..., 0, 3, 3])"
            ]
          },
          "metadata": {},
          "execution_count": 9
        }
      ]
    },
    {
      "cell_type": "code",
      "metadata": {
        "id": "pqmR5Ns5ajYq",
        "colab": {
          "base_uri": "https://localhost:8080/"
        },
        "outputId": "f9b1ced2-f9c7-44f5-f5e4-31bc960a75b9"
      },
      "source": [
        "len(y)"
      ],
      "execution_count": null,
      "outputs": [
        {
          "output_type": "execute_result",
          "data": {
            "text/plain": [
              "26729"
            ]
          },
          "metadata": {},
          "execution_count": 10
        }
      ]
    },
    {
      "cell_type": "code",
      "metadata": {
        "id": "4fYTE88xajYr",
        "colab": {
          "base_uri": "https://localhost:8080/"
        },
        "outputId": "f3c438e7-3b45-4740-c0ee-6fdee52e8888"
      },
      "source": [
        "X.shape"
      ],
      "execution_count": null,
      "outputs": [
        {
          "output_type": "execute_result",
          "data": {
            "text/plain": [
              "(26729, 37)"
            ]
          },
          "metadata": {},
          "execution_count": 11
        }
      ]
    },
    {
      "cell_type": "markdown",
      "metadata": {
        "id": "Xr5qUUYUajYr"
      },
      "source": [
        "Разобьём выборку на тренировочную и тестовую. "
      ]
    },
    {
      "cell_type": "code",
      "metadata": {
        "id": "W-O03onLajYr",
        "colab": {
          "base_uri": "https://localhost:8080/"
        },
        "outputId": "62274c29-8a17-471e-a48d-a35066121e46"
      },
      "source": [
        "from sklearn.model_selection import train_test_split\n",
        "\n",
        "X_train, X_test, y_train, y_test = train_test_split(X, y, test_size=0.2, stratify = y, random_state = 42)\n",
        "\n",
        "print(X_train.shape)\n",
        "print(X_test.shape)"
      ],
      "execution_count": null,
      "outputs": [
        {
          "output_type": "stream",
          "name": "stdout",
          "text": [
            "(21383, 37)\n",
            "(5346, 37)\n"
          ]
        }
      ]
    },
    {
      "cell_type": "markdown",
      "metadata": {
        "id": "sCYCu5XZajYs"
      },
      "source": [
        "Прежде, чем учить 228-слойных монстров, давайте построим какие-нибудь простые прогнозы, чтобы было с чем сравнить. Давайте построи наивный прогноз, а также обучим линейную регрессию и случайный лес.\n",
        "\n",
        "### Константный прогноз\n",
        "\n",
        "Построим константный прогноз, чтобы было с чем сравнивать и прогноз по какой-нибудь модели. "
      ]
    },
    {
      "cell_type": "code",
      "metadata": {
        "id": "67vedm1majYt",
        "colab": {
          "base_uri": "https://localhost:8080/"
        },
        "outputId": "d5fb2f2f-5188-4f6c-8fa2-eecc01f46ee0"
      },
      "source": [
        "from sklearn.metrics import log_loss\n",
        "\n",
        "probas = np.array(pd.Series(y_train).value_counts(normalize=True).sort_index().tolist())\n",
        "probas"
      ],
      "execution_count": null,
      "outputs": [
        {
          "output_type": "execute_result",
          "data": {
            "text/plain": [
              "array([0.40289015, 0.0655661 , 0.17906748, 0.35247627])"
            ]
          },
          "metadata": {},
          "execution_count": 13
        }
      ]
    },
    {
      "cell_type": "code",
      "metadata": {
        "id": "lYFYBZ_WajYu",
        "colab": {
          "base_uri": "https://localhost:8080/"
        },
        "outputId": "1be3adf7-7884-4039-ecc2-e99a6d3afcde"
      },
      "source": [
        "log_loss(y_test, np.tile(probas, X_test.shape[0]).reshape(X_test.shape[0], 4))"
      ],
      "execution_count": null,
      "outputs": [
        {
          "output_type": "execute_result",
          "data": {
            "text/plain": [
              "1.2202552496487795"
            ]
          },
          "metadata": {},
          "execution_count": 14
        }
      ]
    },
    {
      "cell_type": "markdown",
      "metadata": {
        "id": "_RImWzx-ajYu"
      },
      "source": [
        "### Логистическая регрессия"
      ]
    },
    {
      "cell_type": "code",
      "metadata": {
        "id": "d3yBNgCsajYv",
        "colab": {
          "base_uri": "https://localhost:8080/"
        },
        "outputId": "2e6b2f8f-9946-49a5-f206-d087e755efe6"
      },
      "source": [
        "from sklearn.linear_model import LogisticRegression\n",
        "\n",
        "logreg = LogisticRegression( )\n",
        "logreg.fit(X_train, y_train)\n",
        "log_loss(y_test, logreg.predict_proba(X_test))"
      ],
      "execution_count": null,
      "outputs": [
        {
          "output_type": "execute_result",
          "data": {
            "text/plain": [
              "1.0690598459112488"
            ]
          },
          "metadata": {},
          "execution_count": 15
        }
      ]
    },
    {
      "cell_type": "code",
      "metadata": {
        "id": "kb74tht4ajYv",
        "colab": {
          "base_uri": "https://localhost:8080/"
        },
        "outputId": "a3690bd0-5276-4308-a8ff-6eb89b7a82a7"
      },
      "source": [
        "logreg.predict_proba(X_test) # 4 колонки вероятностей, по одной на каждый класс"
      ],
      "execution_count": null,
      "outputs": [
        {
          "output_type": "execute_result",
          "data": {
            "text/plain": [
              "array([[0.18708425, 0.06705575, 0.04653729, 0.69932271],\n",
              "       [0.71548244, 0.02923483, 0.10843301, 0.14684972],\n",
              "       [0.52376852, 0.03810022, 0.18068458, 0.25744667],\n",
              "       ...,\n",
              "       [0.77510328, 0.01024992, 0.1760185 , 0.0386283 ],\n",
              "       [0.22847273, 0.05774407, 0.03826696, 0.67551624],\n",
              "       [0.66540524, 0.03012254, 0.12082845, 0.18364377]])"
            ]
          },
          "metadata": {},
          "execution_count": 23
        }
      ]
    },
    {
      "cell_type": "markdown",
      "metadata": {
        "id": "hh3zT2F8ajYw"
      },
      "source": [
        "### Случайный лес "
      ]
    },
    {
      "cell_type": "code",
      "metadata": {
        "scrolled": true,
        "id": "JOmlj2dCajYw",
        "colab": {
          "base_uri": "https://localhost:8080/"
        },
        "outputId": "438ef370-18fd-4084-cf56-48b4eb1418c3"
      },
      "source": [
        "from sklearn.ensemble import RandomForestClassifier\n",
        "\n",
        "rf = RandomForestClassifier(n_estimators=1000, n_jobs=3)\n",
        "rf.fit(X_train, y_train)\n",
        "log_loss(y_test, rf.predict_proba(X_test))"
      ],
      "execution_count": null,
      "outputs": [
        {
          "output_type": "execute_result",
          "data": {
            "text/plain": [
              "0.7571818986131026"
            ]
          },
          "metadata": {},
          "execution_count": 24
        }
      ]
    },
    {
      "cell_type": "markdown",
      "metadata": {
        "id": "QMsD5rWkajYy"
      },
      "source": [
        "Неплохой результат. Попробуем улучшить его с помощью нейросеток. "
      ]
    },
    {
      "cell_type": "markdown",
      "metadata": {
        "id": "-ILSgFT_ajYy"
      },
      "source": [
        "## 2. Собираем свою нейросеть"
      ]
    },
    {
      "cell_type": "code",
      "metadata": {
        "id": "tufmnwE3ajYy"
      },
      "source": [
        "from tensorflow.keras import layers as L         # Уже готовые слои для моделей\n",
        "from tensorflow.keras.models import Sequential   # Специальный класс для склеивания слоёв\n",
        "from tensorflow.keras.models import Model        # Альтернативный класс для склейки слоёв\n",
        "import tensorflow.keras.optimizers as opt        # Разные оптимизационные алгоритмы :3 "
      ],
      "execution_count": null,
      "outputs": []
    },
    {
      "cell_type": "markdown",
      "metadata": {
        "id": "un2ISaGyajYy"
      },
      "source": [
        "Модель в Keras собирается как конструктор LEGO. Её можно описать двумя основными способами. Первый — последовательное описание модели. В его случае мы как бы создаём коробочку `model` и постепенно добавляем туда детальки нашей сетки. "
      ]
    },
    {
      "cell_type": "raw",
      "metadata": {
        "id": "xXH-Y5n7ajYz"
      },
      "source": [
        "model = Sequential()                             # создали контейнер для модели\n",
        "model.add(layers.Dense(128, input_shape=(20,)))  # слой из 128 нейронов, вход 20 регрессоров\n",
        "model.add(layers.Activation('relu'))             # функция активации\n",
        "model.add(layers.Dropout(0.5))                   # дропаут с вероятностью 0.5 \n",
        "model.add(layers.Dense(1))                       # полносвязный слой с одним нейроном, то есть выходом"
      ]
    },
    {
      "cell_type": "markdown",
      "metadata": {
        "id": "bDTYqj5BajYz"
      },
      "source": [
        "Второй способ - описать модель функционально, в явном виде прописав какие аргументы идут на вход какому слою. "
      ]
    },
    {
      "cell_type": "raw",
      "metadata": {
        "id": "0cZrt5exajY0"
      },
      "source": [
        "a = Input(shape=(20,))                # Первая заглушка для входа \n",
        "b = layers.Dense(128)(a)              # Применяем ко входу полносвязный слой как функцию\n",
        "b = layers.Activation('relu')(b)      # Теперь к тому, что получилось функцию активации\n",
        "b = layers.Dropout(0.5)(b)            # Ну и так далее... \n",
        "b = layers.Dense(1)(b)\n",
        "\n",
        "model = Model(inputs=a, outputs=b)    # указываем что вход, а что выход, склеивая модель"
      ]
    },
    {
      "cell_type": "markdown",
      "metadata": {
        "id": "3yVaBow9ajY1"
      },
      "source": [
        "Когда мы будем строить сложные модели с кучей разветвлений, для нас будет удобным второй способ. Для простых ситуаций вроде текущей, можете пользоваться первым. \n",
        "\n",
        "Давайте соберём небольшую нейронку. Давайте сделаем в ней вот такую архитектуру: "
      ]
    },
    {
      "cell_type": "code",
      "metadata": {
        "id": "Rg894GkgajY3"
      },
      "source": [
        "def get_new_model( ):\n",
        "\n",
        "    ###########################################################\n",
        "    # Ваш код! \n",
        "    model = Sequential(name = 'Archibald')  # модели можно дать имя!\n",
        "    \n",
        "    # Добавляем в нашу модель первый слой из 25 нейронов\n",
        "    model.add(L.Dense(25, input_dim = X_train.shape[1], kernel_initializer='random_normal'))\n",
        "\n",
        "    # Добавляем функцию активации на первый слой \n",
        "    model.add(L.Activation('sigmoid'))\n",
        "\n",
        "    # Добавляем ещё один слой из 25 нейронов\n",
        "    model.add(L.Dense(25, kernel_initializer='random_normal'))\n",
        "    model.add(L.Activation('sigmoid'))\n",
        "\n",
        "    # На выходе мы должны получить вероятности того, что объект относится к разным классам \n",
        "    # Сделать такое преобразование позволяет softmax как функция активации\n",
        "    # На выход будет идти 4 вероятности по числу классов\n",
        "    model.add(L.Dense(4, activation='softmax', kernel_initializer = 'random_normal'))\n",
        "    \n",
        "    ###########################################################\n",
        "    \n",
        "    # В качестве оптимизации будем использовать Adam\n",
        "    # Это такой специальный градиентный спуск, обсудим его в следущий раз\n",
        "    optimizer = opt.Adam(lr=1e-3)\n",
        "\n",
        "    # Собираем модель\n",
        "    model.compile(loss = 'categorical_crossentropy', \n",
        "                  metrics=[\"accuracy\"], \n",
        "                  optimizer=optimizer)\n",
        "    \n",
        "    return model"
      ],
      "execution_count": null,
      "outputs": []
    },
    {
      "cell_type": "markdown",
      "metadata": {
        "id": "TK42PeoxajY4"
      },
      "source": [
        "Перед тем как обучать нашу нейросеть, нужно задать параметры обучения. Во-первых, метод оптимизации. Во-вторых, функцию потерь. В-третьих, парочку метрик, на которые нам хотелось бы смотреть в процессе обучения.  Для этого есть метод `compile`. "
      ]
    },
    {
      "cell_type": "code",
      "metadata": {
        "id": "4Lj4utrfajY5"
      },
      "source": [
        "model = get_new_model( )"
      ],
      "execution_count": null,
      "outputs": []
    },
    {
      "cell_type": "markdown",
      "metadata": {
        "id": "xVjfbDRFajY6"
      },
      "source": [
        "Итак, только что мы собрали свою первую нейросеть со скрытым слоем.   Посмотрим сколько параметров нам предстоит оценить. "
      ]
    },
    {
      "cell_type": "code",
      "metadata": {
        "id": "CJjt3OMrajY6",
        "colab": {
          "base_uri": "https://localhost:8080/"
        },
        "outputId": "17c6e818-0ddc-4a6f-914b-07d04b9f7107"
      },
      "source": [
        "model.summary()"
      ],
      "execution_count": null,
      "outputs": [
        {
          "output_type": "stream",
          "name": "stdout",
          "text": [
            "Model: \"Archibald\"\n",
            "_________________________________________________________________\n",
            "Layer (type)                 Output Shape              Param #   \n",
            "=================================================================\n",
            "dense (Dense)                (None, 25)                950       \n",
            "_________________________________________________________________\n",
            "activation (Activation)      (None, 25)                0         \n",
            "_________________________________________________________________\n",
            "dense_1 (Dense)              (None, 25)                650       \n",
            "_________________________________________________________________\n",
            "activation_1 (Activation)    (None, 25)                0         \n",
            "_________________________________________________________________\n",
            "dense_2 (Dense)              (None, 4)                 104       \n",
            "=================================================================\n",
            "Total params: 1,704\n",
            "Trainable params: 1,704\n",
            "Non-trainable params: 0\n",
            "_________________________________________________________________\n"
          ]
        }
      ]
    },
    {
      "cell_type": "markdown",
      "metadata": {
        "id": "6tDzWIR_ajY6"
      },
      "source": [
        "Видим, что нужно оценить огромное количество параметров. На оценку каждого параметра придётся совсем маленькое количество наблюдений. "
      ]
    },
    {
      "cell_type": "code",
      "metadata": {
        "id": "DNwlAoGRajY7",
        "colab": {
          "base_uri": "https://localhost:8080/"
        },
        "outputId": "c179880d-48d8-4bc8-ea94-d77ee1947a61"
      },
      "source": [
        "X_train.shape[0]/1704"
      ],
      "execution_count": null,
      "outputs": [
        {
          "output_type": "execute_result",
          "data": {
            "text/plain": [
              "12.548708920187794"
            ]
          },
          "metadata": {},
          "execution_count": 29
        }
      ]
    },
    {
      "cell_type": "markdown",
      "metadata": {
        "id": "RqyQgR1NajY8"
      },
      "source": [
        "Отлично! Модель собрана. Осталось её обучить. Метод `fit` позволяет сделать это. Он принимает на вход обучающую выборку `X_train, y_train`. Параметр  `batch_size` это  размер батча. Этот параметр ограничивает количество примеров, которое за раз подаётся в нашу нейронную сеть. Количиство эпох для обучения, `epochs` - это число проходов модели по обучающей выборке. \n",
        "\n",
        "Обычно нейросетки обучаются довольно долго. В связи с этим обучать их на различных фолдах и оценивать качество работы модели на кросс-валидации не очень быстрое занятие, которое себе может позволить далеко не каждый. Для проверки качества обычно внутри обучения с помощью параметра `validation_split` часть выборки оставляют под валидацию, которая осуществляется после каждой эпохи. Как только качество на валидации начнёт падать, это будет означать, что модель переобучилаcь. \n",
        "\n",
        "Всё, что будет нам возвращать метод `.fit`, мы запишем в переменную `hist`. После обученя модели там окажется вся история ошибок на каждом шаге обучения. Отключить сообщения о том, на каком этапе обучения в данный момент находится модель, можно с параметром `verbose = 0`. Переменную $y$ для успешного обучения сетки нужно будет перевести в матрицу из дамми-переменных с помощью команды `to_categorical`. "
      ]
    },
    {
      "cell_type": "code",
      "metadata": {
        "id": "YgdWhFysajY8",
        "colab": {
          "base_uri": "https://localhost:8080/"
        },
        "outputId": "d57fca90-cca3-4e4b-eef6-133034d58b83"
      },
      "source": [
        "from tensorflow.keras.utils import to_categorical\n",
        "to_categorical(y)"
      ],
      "execution_count": null,
      "outputs": [
        {
          "output_type": "execute_result",
          "data": {
            "text/plain": [
              "array([[0., 0., 1., 0.],\n",
              "       [0., 1., 0., 0.],\n",
              "       [1., 0., 0., 0.],\n",
              "       ...,\n",
              "       [1., 0., 0., 0.],\n",
              "       [0., 0., 0., 1.],\n",
              "       [0., 0., 0., 1.]], dtype=float32)"
            ]
          },
          "metadata": {},
          "execution_count": 30
        }
      ]
    },
    {
      "cell_type": "code",
      "metadata": {
        "id": "uVLfZW8-ajY9",
        "colab": {
          "base_uri": "https://localhost:8080/"
        },
        "outputId": "e7e83960-64c6-456e-857c-be591d2e0cc5"
      },
      "source": [
        "# Попробуйте переключить verbose = 1 и будет чудо!\n",
        "model = get_new_model()\n",
        "hist = model.fit(X_train, to_categorical(y_train), validation_split=0.2, epochs=100, verbose=1)"
      ],
      "execution_count": null,
      "outputs": [
        {
          "output_type": "stream",
          "name": "stdout",
          "text": [
            "Epoch 1/100\n",
            "535/535 [==============================] - 1s 2ms/step - loss: 0.7636 - accuracy: 0.6825 - val_loss: 0.7976 - val_accuracy: 0.6659\n",
            "Epoch 2/100\n",
            "535/535 [==============================] - 1s 2ms/step - loss: 0.7636 - accuracy: 0.6821 - val_loss: 0.7983 - val_accuracy: 0.6610\n",
            "Epoch 3/100\n",
            "535/535 [==============================] - 1s 2ms/step - loss: 0.7628 - accuracy: 0.6825 - val_loss: 0.7957 - val_accuracy: 0.6654\n",
            "Epoch 4/100\n",
            "535/535 [==============================] - 1s 2ms/step - loss: 0.7618 - accuracy: 0.6824 - val_loss: 0.7970 - val_accuracy: 0.6643\n",
            "Epoch 5/100\n",
            "535/535 [==============================] - 1s 2ms/step - loss: 0.7615 - accuracy: 0.6830 - val_loss: 0.7965 - val_accuracy: 0.6626\n",
            "Epoch 6/100\n",
            "535/535 [==============================] - 1s 2ms/step - loss: 0.7610 - accuracy: 0.6837 - val_loss: 0.7984 - val_accuracy: 0.6626\n",
            "Epoch 7/100\n",
            "535/535 [==============================] - 1s 2ms/step - loss: 0.7608 - accuracy: 0.6840 - val_loss: 0.7964 - val_accuracy: 0.6661\n",
            "Epoch 8/100\n",
            "535/535 [==============================] - 1s 2ms/step - loss: 0.7601 - accuracy: 0.6833 - val_loss: 0.7974 - val_accuracy: 0.6668\n",
            "Epoch 9/100\n",
            "535/535 [==============================] - 1s 2ms/step - loss: 0.7597 - accuracy: 0.6840 - val_loss: 0.7976 - val_accuracy: 0.6654\n",
            "Epoch 10/100\n",
            "535/535 [==============================] - 1s 2ms/step - loss: 0.7592 - accuracy: 0.6830 - val_loss: 0.8035 - val_accuracy: 0.6635\n",
            "Epoch 11/100\n",
            "535/535 [==============================] - 1s 2ms/step - loss: 0.7591 - accuracy: 0.6828 - val_loss: 0.7967 - val_accuracy: 0.6661\n",
            "Epoch 12/100\n",
            "535/535 [==============================] - 1s 2ms/step - loss: 0.7586 - accuracy: 0.6841 - val_loss: 0.7964 - val_accuracy: 0.6647\n",
            "Epoch 13/100\n",
            "535/535 [==============================] - 1s 2ms/step - loss: 0.7577 - accuracy: 0.6846 - val_loss: 0.7979 - val_accuracy: 0.6701\n",
            "Epoch 14/100\n",
            "535/535 [==============================] - 1s 2ms/step - loss: 0.7572 - accuracy: 0.6837 - val_loss: 0.7974 - val_accuracy: 0.6628\n",
            "Epoch 15/100\n",
            "535/535 [==============================] - 1s 2ms/step - loss: 0.7568 - accuracy: 0.6837 - val_loss: 0.7976 - val_accuracy: 0.6628\n",
            "Epoch 16/100\n",
            "535/535 [==============================] - 1s 2ms/step - loss: 0.7564 - accuracy: 0.6856 - val_loss: 0.7973 - val_accuracy: 0.6619\n",
            "Epoch 17/100\n",
            "535/535 [==============================] - 1s 2ms/step - loss: 0.7559 - accuracy: 0.6851 - val_loss: 0.8005 - val_accuracy: 0.6633\n",
            "Epoch 18/100\n",
            "535/535 [==============================] - 1s 2ms/step - loss: 0.7562 - accuracy: 0.6863 - val_loss: 0.8030 - val_accuracy: 0.6643\n",
            "Epoch 19/100\n",
            "535/535 [==============================] - 1s 2ms/step - loss: 0.7548 - accuracy: 0.6846 - val_loss: 0.7976 - val_accuracy: 0.6694\n",
            "Epoch 20/100\n",
            "535/535 [==============================] - 1s 2ms/step - loss: 0.7544 - accuracy: 0.6859 - val_loss: 0.7975 - val_accuracy: 0.6659\n",
            "Epoch 21/100\n",
            "535/535 [==============================] - 1s 2ms/step - loss: 0.7545 - accuracy: 0.6853 - val_loss: 0.7969 - val_accuracy: 0.6635\n",
            "Epoch 22/100\n",
            "535/535 [==============================] - 1s 2ms/step - loss: 0.7532 - accuracy: 0.6870 - val_loss: 0.7988 - val_accuracy: 0.6666\n",
            "Epoch 23/100\n",
            "535/535 [==============================] - 1s 2ms/step - loss: 0.7525 - accuracy: 0.6871 - val_loss: 0.7973 - val_accuracy: 0.6626\n",
            "Epoch 24/100\n",
            "535/535 [==============================] - 1s 2ms/step - loss: 0.7528 - accuracy: 0.6863 - val_loss: 0.7998 - val_accuracy: 0.6657\n",
            "Epoch 25/100\n",
            "535/535 [==============================] - 1s 2ms/step - loss: 0.7525 - accuracy: 0.6869 - val_loss: 0.7979 - val_accuracy: 0.6654\n",
            "Epoch 26/100\n",
            "535/535 [==============================] - 1s 2ms/step - loss: 0.7516 - accuracy: 0.6864 - val_loss: 0.7987 - val_accuracy: 0.6650\n",
            "Epoch 27/100\n",
            "535/535 [==============================] - 1s 2ms/step - loss: 0.7523 - accuracy: 0.6872 - val_loss: 0.7962 - val_accuracy: 0.6647\n",
            "Epoch 28/100\n",
            "535/535 [==============================] - 1s 2ms/step - loss: 0.7519 - accuracy: 0.6882 - val_loss: 0.7966 - val_accuracy: 0.6640\n",
            "Epoch 29/100\n",
            "535/535 [==============================] - 1s 2ms/step - loss: 0.7510 - accuracy: 0.6875 - val_loss: 0.7973 - val_accuracy: 0.6628\n",
            "Epoch 30/100\n",
            "535/535 [==============================] - 1s 2ms/step - loss: 0.7502 - accuracy: 0.6876 - val_loss: 0.7984 - val_accuracy: 0.6664\n",
            "Epoch 31/100\n",
            "535/535 [==============================] - 1s 2ms/step - loss: 0.7497 - accuracy: 0.6877 - val_loss: 0.7963 - val_accuracy: 0.6650\n",
            "Epoch 32/100\n",
            "535/535 [==============================] - 1s 2ms/step - loss: 0.7493 - accuracy: 0.6876 - val_loss: 0.8035 - val_accuracy: 0.6680\n",
            "Epoch 33/100\n",
            "535/535 [==============================] - 1s 2ms/step - loss: 0.7491 - accuracy: 0.6879 - val_loss: 0.7979 - val_accuracy: 0.6626\n",
            "Epoch 34/100\n",
            "535/535 [==============================] - 1s 2ms/step - loss: 0.7495 - accuracy: 0.6879 - val_loss: 0.7973 - val_accuracy: 0.6666\n",
            "Epoch 35/100\n",
            "535/535 [==============================] - 1s 2ms/step - loss: 0.7486 - accuracy: 0.6869 - val_loss: 0.7978 - val_accuracy: 0.6640\n",
            "Epoch 36/100\n",
            "535/535 [==============================] - 1s 2ms/step - loss: 0.7482 - accuracy: 0.6896 - val_loss: 0.7990 - val_accuracy: 0.6640\n",
            "Epoch 37/100\n",
            "535/535 [==============================] - 1s 2ms/step - loss: 0.7478 - accuracy: 0.6885 - val_loss: 0.7957 - val_accuracy: 0.6650\n",
            "Epoch 38/100\n",
            "535/535 [==============================] - 1s 2ms/step - loss: 0.7469 - accuracy: 0.6877 - val_loss: 0.7979 - val_accuracy: 0.6666\n",
            "Epoch 39/100\n",
            "535/535 [==============================] - 1s 2ms/step - loss: 0.7469 - accuracy: 0.6891 - val_loss: 0.7969 - val_accuracy: 0.6673\n",
            "Epoch 40/100\n",
            "535/535 [==============================] - 1s 2ms/step - loss: 0.7466 - accuracy: 0.6900 - val_loss: 0.7985 - val_accuracy: 0.6675\n",
            "Epoch 41/100\n",
            "535/535 [==============================] - 1s 2ms/step - loss: 0.7463 - accuracy: 0.6893 - val_loss: 0.7968 - val_accuracy: 0.6621\n",
            "Epoch 42/100\n",
            "535/535 [==============================] - 1s 2ms/step - loss: 0.7463 - accuracy: 0.6887 - val_loss: 0.7983 - val_accuracy: 0.6685\n",
            "Epoch 43/100\n",
            "535/535 [==============================] - 1s 2ms/step - loss: 0.7456 - accuracy: 0.6901 - val_loss: 0.7961 - val_accuracy: 0.6657\n",
            "Epoch 44/100\n",
            "535/535 [==============================] - 1s 2ms/step - loss: 0.7451 - accuracy: 0.6865 - val_loss: 0.7979 - val_accuracy: 0.6675\n",
            "Epoch 45/100\n",
            "535/535 [==============================] - 1s 2ms/step - loss: 0.7446 - accuracy: 0.6888 - val_loss: 0.7984 - val_accuracy: 0.6664\n",
            "Epoch 46/100\n",
            "535/535 [==============================] - 1s 2ms/step - loss: 0.7445 - accuracy: 0.6891 - val_loss: 0.7988 - val_accuracy: 0.6696\n",
            "Epoch 47/100\n",
            "535/535 [==============================] - 1s 2ms/step - loss: 0.7440 - accuracy: 0.6886 - val_loss: 0.7984 - val_accuracy: 0.6701\n",
            "Epoch 48/100\n",
            "535/535 [==============================] - 1s 2ms/step - loss: 0.7440 - accuracy: 0.6885 - val_loss: 0.7988 - val_accuracy: 0.6694\n",
            "Epoch 49/100\n",
            "535/535 [==============================] - 1s 2ms/step - loss: 0.7433 - accuracy: 0.6913 - val_loss: 0.7989 - val_accuracy: 0.6643\n",
            "Epoch 50/100\n",
            "535/535 [==============================] - 1s 2ms/step - loss: 0.7427 - accuracy: 0.6895 - val_loss: 0.7977 - val_accuracy: 0.6710\n",
            "Epoch 51/100\n",
            "535/535 [==============================] - 1s 2ms/step - loss: 0.7429 - accuracy: 0.6891 - val_loss: 0.7990 - val_accuracy: 0.6678\n",
            "Epoch 52/100\n",
            "535/535 [==============================] - 1s 2ms/step - loss: 0.7425 - accuracy: 0.6878 - val_loss: 0.7977 - val_accuracy: 0.6701\n",
            "Epoch 53/100\n",
            "535/535 [==============================] - 1s 2ms/step - loss: 0.7427 - accuracy: 0.6905 - val_loss: 0.7958 - val_accuracy: 0.6673\n",
            "Epoch 54/100\n",
            "535/535 [==============================] - 1s 2ms/step - loss: 0.7422 - accuracy: 0.6902 - val_loss: 0.7987 - val_accuracy: 0.6652\n",
            "Epoch 55/100\n",
            "535/535 [==============================] - 1s 2ms/step - loss: 0.7413 - accuracy: 0.6912 - val_loss: 0.7967 - val_accuracy: 0.6696\n",
            "Epoch 56/100\n",
            "535/535 [==============================] - 1s 2ms/step - loss: 0.7415 - accuracy: 0.6901 - val_loss: 0.7984 - val_accuracy: 0.6689\n",
            "Epoch 57/100\n",
            "535/535 [==============================] - 1s 2ms/step - loss: 0.7406 - accuracy: 0.6901 - val_loss: 0.7995 - val_accuracy: 0.6652\n",
            "Epoch 58/100\n",
            "535/535 [==============================] - 1s 2ms/step - loss: 0.7402 - accuracy: 0.6914 - val_loss: 0.7989 - val_accuracy: 0.6680\n",
            "Epoch 59/100\n",
            "535/535 [==============================] - 1s 2ms/step - loss: 0.7402 - accuracy: 0.6909 - val_loss: 0.7987 - val_accuracy: 0.6652\n",
            "Epoch 60/100\n",
            "535/535 [==============================] - 1s 2ms/step - loss: 0.7402 - accuracy: 0.6913 - val_loss: 0.7990 - val_accuracy: 0.6654\n",
            "Epoch 61/100\n",
            "535/535 [==============================] - 1s 2ms/step - loss: 0.7393 - accuracy: 0.6899 - val_loss: 0.7969 - val_accuracy: 0.6720\n",
            "Epoch 62/100\n",
            "535/535 [==============================] - 1s 2ms/step - loss: 0.7390 - accuracy: 0.6898 - val_loss: 0.8007 - val_accuracy: 0.6671\n",
            "Epoch 63/100\n",
            "535/535 [==============================] - 1s 2ms/step - loss: 0.7390 - accuracy: 0.6893 - val_loss: 0.7982 - val_accuracy: 0.6694\n",
            "Epoch 64/100\n",
            "535/535 [==============================] - 1s 2ms/step - loss: 0.7387 - accuracy: 0.6910 - val_loss: 0.8015 - val_accuracy: 0.6678\n",
            "Epoch 65/100\n",
            "535/535 [==============================] - 1s 2ms/step - loss: 0.7387 - accuracy: 0.6907 - val_loss: 0.7987 - val_accuracy: 0.6724\n",
            "Epoch 66/100\n",
            "535/535 [==============================] - 1s 2ms/step - loss: 0.7378 - accuracy: 0.6896 - val_loss: 0.7979 - val_accuracy: 0.6710\n",
            "Epoch 67/100\n",
            "535/535 [==============================] - 1s 2ms/step - loss: 0.7376 - accuracy: 0.6905 - val_loss: 0.7966 - val_accuracy: 0.6699\n",
            "Epoch 68/100\n",
            "535/535 [==============================] - 1s 2ms/step - loss: 0.7375 - accuracy: 0.6910 - val_loss: 0.7976 - val_accuracy: 0.6696\n",
            "Epoch 69/100\n",
            "535/535 [==============================] - 1s 2ms/step - loss: 0.7368 - accuracy: 0.6903 - val_loss: 0.7977 - val_accuracy: 0.6678\n",
            "Epoch 70/100\n",
            "535/535 [==============================] - 1s 2ms/step - loss: 0.7367 - accuracy: 0.6918 - val_loss: 0.7964 - val_accuracy: 0.6692\n",
            "Epoch 71/100\n",
            "535/535 [==============================] - 1s 2ms/step - loss: 0.7364 - accuracy: 0.6909 - val_loss: 0.7987 - val_accuracy: 0.6701\n",
            "Epoch 72/100\n",
            "535/535 [==============================] - 1s 2ms/step - loss: 0.7359 - accuracy: 0.6924 - val_loss: 0.7982 - val_accuracy: 0.6703\n",
            "Epoch 73/100\n",
            "535/535 [==============================] - 1s 2ms/step - loss: 0.7359 - accuracy: 0.6914 - val_loss: 0.8000 - val_accuracy: 0.6689\n",
            "Epoch 74/100\n",
            "535/535 [==============================] - 1s 2ms/step - loss: 0.7363 - accuracy: 0.6911 - val_loss: 0.7962 - val_accuracy: 0.6692\n",
            "Epoch 75/100\n",
            "535/535 [==============================] - 1s 2ms/step - loss: 0.7350 - accuracy: 0.6937 - val_loss: 0.8018 - val_accuracy: 0.6661\n",
            "Epoch 76/100\n",
            "535/535 [==============================] - 1s 2ms/step - loss: 0.7354 - accuracy: 0.6922 - val_loss: 0.7971 - val_accuracy: 0.6696\n",
            "Epoch 77/100\n",
            "535/535 [==============================] - 1s 2ms/step - loss: 0.7348 - accuracy: 0.6912 - val_loss: 0.7999 - val_accuracy: 0.6682\n",
            "Epoch 78/100\n",
            "535/535 [==============================] - 1s 2ms/step - loss: 0.7344 - accuracy: 0.6924 - val_loss: 0.7984 - val_accuracy: 0.6666\n",
            "Epoch 79/100\n",
            "535/535 [==============================] - 1s 2ms/step - loss: 0.7349 - accuracy: 0.6924 - val_loss: 0.7993 - val_accuracy: 0.6666\n",
            "Epoch 80/100\n",
            "535/535 [==============================] - 1s 2ms/step - loss: 0.7338 - accuracy: 0.6951 - val_loss: 0.7977 - val_accuracy: 0.6713\n",
            "Epoch 81/100\n",
            "535/535 [==============================] - 1s 2ms/step - loss: 0.7331 - accuracy: 0.6924 - val_loss: 0.8009 - val_accuracy: 0.6717\n",
            "Epoch 82/100\n",
            "535/535 [==============================] - 1s 2ms/step - loss: 0.7331 - accuracy: 0.6930 - val_loss: 0.7995 - val_accuracy: 0.6696\n",
            "Epoch 83/100\n",
            "535/535 [==============================] - 1s 2ms/step - loss: 0.7328 - accuracy: 0.6939 - val_loss: 0.7998 - val_accuracy: 0.6713\n",
            "Epoch 84/100\n",
            "535/535 [==============================] - 1s 2ms/step - loss: 0.7330 - accuracy: 0.6926 - val_loss: 0.7983 - val_accuracy: 0.6687\n",
            "Epoch 85/100\n",
            "535/535 [==============================] - 1s 2ms/step - loss: 0.7325 - accuracy: 0.6919 - val_loss: 0.7985 - val_accuracy: 0.6741\n",
            "Epoch 86/100\n",
            "535/535 [==============================] - 1s 2ms/step - loss: 0.7322 - accuracy: 0.6928 - val_loss: 0.7988 - val_accuracy: 0.6713\n",
            "Epoch 87/100\n",
            "535/535 [==============================] - 1s 2ms/step - loss: 0.7320 - accuracy: 0.6908 - val_loss: 0.7986 - val_accuracy: 0.6720\n",
            "Epoch 88/100\n",
            "535/535 [==============================] - 1s 2ms/step - loss: 0.7319 - accuracy: 0.6929 - val_loss: 0.7977 - val_accuracy: 0.6692\n",
            "Epoch 89/100\n",
            "535/535 [==============================] - 1s 2ms/step - loss: 0.7312 - accuracy: 0.6937 - val_loss: 0.7975 - val_accuracy: 0.6706\n",
            "Epoch 90/100\n",
            "535/535 [==============================] - 1s 2ms/step - loss: 0.7310 - accuracy: 0.6925 - val_loss: 0.7992 - val_accuracy: 0.6734\n",
            "Epoch 91/100\n",
            "535/535 [==============================] - 1s 2ms/step - loss: 0.7306 - accuracy: 0.6951 - val_loss: 0.7987 - val_accuracy: 0.6708\n",
            "Epoch 92/100\n",
            "535/535 [==============================] - 1s 2ms/step - loss: 0.7307 - accuracy: 0.6940 - val_loss: 0.7974 - val_accuracy: 0.6731\n",
            "Epoch 93/100\n",
            "535/535 [==============================] - 1s 2ms/step - loss: 0.7304 - accuracy: 0.6936 - val_loss: 0.7975 - val_accuracy: 0.6706\n",
            "Epoch 94/100\n",
            "535/535 [==============================] - 1s 2ms/step - loss: 0.7297 - accuracy: 0.6951 - val_loss: 0.8020 - val_accuracy: 0.6696\n",
            "Epoch 95/100\n",
            "535/535 [==============================] - 1s 2ms/step - loss: 0.7300 - accuracy: 0.6959 - val_loss: 0.7984 - val_accuracy: 0.6727\n",
            "Epoch 96/100\n",
            "535/535 [==============================] - 1s 2ms/step - loss: 0.7292 - accuracy: 0.6942 - val_loss: 0.7981 - val_accuracy: 0.6715\n",
            "Epoch 97/100\n",
            "535/535 [==============================] - 1s 2ms/step - loss: 0.7295 - accuracy: 0.6922 - val_loss: 0.7992 - val_accuracy: 0.6706\n",
            "Epoch 98/100\n",
            "535/535 [==============================] - 1s 2ms/step - loss: 0.7288 - accuracy: 0.6942 - val_loss: 0.7969 - val_accuracy: 0.6696\n",
            "Epoch 99/100\n",
            "535/535 [==============================] - 1s 2ms/step - loss: 0.7285 - accuracy: 0.6962 - val_loss: 0.7992 - val_accuracy: 0.6703\n",
            "Epoch 100/100\n",
            "535/535 [==============================] - 1s 2ms/step - loss: 0.7283 - accuracy: 0.6941 - val_loss: 0.8010 - val_accuracy: 0.6703\n"
          ]
        }
      ]
    },
    {
      "cell_type": "markdown",
      "metadata": {
        "id": "JErJ-YWVajY9"
      },
      "source": [
        "Возвращает этот метод history — это история ошибок на каждом шаге обучения. Посмотрим на динамику ошибок нашей модели во времени. "
      ]
    },
    {
      "cell_type": "code",
      "metadata": {
        "id": "ZK2gYyTnajY9",
        "colab": {
          "base_uri": "https://localhost:8080/",
          "height": 282
        },
        "outputId": "f7eb3825-d612-4899-e42b-95768d8d3caf"
      },
      "source": [
        "start = 1\n",
        "plt.plot(hist.history['loss'][start:])\n",
        "plt.plot(hist.history['val_loss'][start:])\n",
        "plt.legend(['Train loss', 'Validation loss'])"
      ],
      "execution_count": null,
      "outputs": [
        {
          "output_type": "execute_result",
          "data": {
            "text/plain": [
              "<matplotlib.legend.Legend at 0x7f4f3773d8d0>"
            ]
          },
          "metadata": {},
          "execution_count": 57
        },
        {
          "output_type": "display_data",
          "data": {
            "image/png": "[encoded data removed]",
            "text/plain": [
              "<Figure size 432x288 with 1 Axes>"
            ]
          },
          "metadata": {
            "needs_background": "light"
          }
        }
      ]
    },
    {
      "cell_type": "code",
      "metadata": {
        "id": "Nt5LiI8wajY-",
        "colab": {
          "base_uri": "https://localhost:8080/",
          "height": 185
        },
        "outputId": "88121bcb-8b39-4090-d384-ad8ca9f93ab1"
      },
      "source": [
        "# Можно предсказать вероятности для тестовой выборки\n",
        "model.predict_proba(X_test)"
      ],
      "execution_count": null,
      "outputs": [
        {
          "output_type": "error",
          "ename": "AttributeError",
          "evalue": "ignored",
          "traceback": [
            "\u001b[0;31m---------------------------------------------------------------------------\u001b[0m",
            "\u001b[0;31mAttributeError\u001b[0m                            Traceback (most recent call last)",
            "\u001b[0;32m<ipython-input-36-48dee45a06e6>\u001b[0m in \u001b[0;36m<module>\u001b[0;34m()\u001b[0m\n\u001b[1;32m      1\u001b[0m \u001b[0;31m# Можно предсказать вероятности для тестовой выборки\u001b[0m\u001b[0;34m\u001b[0m\u001b[0;34m\u001b[0m\u001b[0;34m\u001b[0m\u001b[0m\n\u001b[0;32m----> 2\u001b[0;31m \u001b[0mmodel\u001b[0m\u001b[0;34m.\u001b[0m\u001b[0mpredict_proba\u001b[0m\u001b[0;34m(\u001b[0m\u001b[0mX_test\u001b[0m\u001b[0;34m)\u001b[0m\u001b[0;34m\u001b[0m\u001b[0;34m\u001b[0m\u001b[0m\n\u001b[0m",
            "\u001b[0;31mAttributeError\u001b[0m: 'Sequential' object has no attribute 'predict_proba'"
          ]
        }
      ]
    },
    {
      "cell_type": "code",
      "metadata": {
        "id": "HA6b9c_Pvl7Y",
        "colab": {
          "base_uri": "https://localhost:8080/"
        },
        "outputId": "37f42bc9-0810-4d30-eb7a-b4ed73fcc2ad"
      },
      "source": [
        "model.predict(X_test)"
      ],
      "execution_count": null,
      "outputs": [
        {
          "output_type": "execute_result",
          "data": {
            "text/plain": [
              "array([[0.8491503 , 0.00368401, 0.02346197, 0.12370364],\n",
              "       [0.51909846, 0.02193599, 0.21238412, 0.24658147],\n",
              "       [0.11987992, 0.06939513, 0.02889421, 0.7818308 ],\n",
              "       ...,\n",
              "       [0.5191705 , 0.02192957, 0.21235844, 0.24654141],\n",
              "       [0.83583474, 0.00418415, 0.02470676, 0.1352743 ],\n",
              "       [0.8505436 , 0.00363299, 0.0233278 , 0.12249554]], dtype=float32)"
            ]
          },
          "metadata": {},
          "execution_count": 37
        }
      ]
    },
    {
      "cell_type": "code",
      "metadata": {
        "id": "iZTgpI12ajY-",
        "colab": {
          "base_uri": "https://localhost:8080/",
          "height": 185
        },
        "outputId": "1996f453-6593-4fb0-8d27-03218d0ee567"
      },
      "source": [
        "# А можно классы \n",
        "model.predict_classes(X_test)"
      ],
      "execution_count": null,
      "outputs": [
        {
          "output_type": "error",
          "ename": "AttributeError",
          "evalue": "ignored",
          "traceback": [
            "\u001b[0;31m---------------------------------------------------------------------------\u001b[0m",
            "\u001b[0;31mAttributeError\u001b[0m                            Traceback (most recent call last)",
            "\u001b[0;32m<ipython-input-38-28a88d20d889>\u001b[0m in \u001b[0;36m<module>\u001b[0;34m()\u001b[0m\n\u001b[1;32m      1\u001b[0m \u001b[0;31m# А можно классы\u001b[0m\u001b[0;34m\u001b[0m\u001b[0;34m\u001b[0m\u001b[0;34m\u001b[0m\u001b[0m\n\u001b[0;32m----> 2\u001b[0;31m \u001b[0mmodel\u001b[0m\u001b[0;34m.\u001b[0m\u001b[0mpredict_classes\u001b[0m\u001b[0;34m(\u001b[0m\u001b[0mX_test\u001b[0m\u001b[0;34m)\u001b[0m\u001b[0;34m\u001b[0m\u001b[0;34m\u001b[0m\u001b[0m\n\u001b[0m",
            "\u001b[0;31mAttributeError\u001b[0m: 'Sequential' object has no attribute 'predict_classes'"
          ]
        }
      ]
    },
    {
      "cell_type": "code",
      "metadata": {
        "id": "uRwbZKJNv1_W"
      },
      "source": [
        "# Предсказания классов для TensorFlow 2.6\n",
        "predict_x=model.predict(X_test) \n",
        "classes_x=np.argmax(predict_x,axis=1)\n"
      ],
      "execution_count": null,
      "outputs": []
    },
    {
      "cell_type": "code",
      "metadata": {
        "id": "PWj6g68Nwoqd",
        "colab": {
          "base_uri": "https://localhost:8080/"
        },
        "outputId": "f6560dc0-4c87-48fd-d108-414fc93058e8"
      },
      "source": [
        "classes_x\n",
        "len(classes_x)"
      ],
      "execution_count": null,
      "outputs": [
        {
          "output_type": "execute_result",
          "data": {
            "text/plain": [
              "5346"
            ]
          },
          "metadata": {},
          "execution_count": 44
        }
      ]
    },
    {
      "cell_type": "code",
      "metadata": {
        "id": "TIau1zwyajY-",
        "colab": {
          "base_uri": "https://localhost:8080/",
          "height": 185
        },
        "outputId": "1f376e9c-e6d1-458c-c214-3899d52ef53b"
      },
      "source": [
        "# Можно найти logloss \n",
        "log_loss(y_test,model.predict_proba(X_test))"
      ],
      "execution_count": null,
      "outputs": [
        {
          "output_type": "error",
          "ename": "AttributeError",
          "evalue": "ignored",
          "traceback": [
            "\u001b[0;31m---------------------------------------------------------------------------\u001b[0m",
            "\u001b[0;31mAttributeError\u001b[0m                            Traceback (most recent call last)",
            "\u001b[0;32m<ipython-input-45-7bfdbe4985c3>\u001b[0m in \u001b[0;36m<module>\u001b[0;34m()\u001b[0m\n\u001b[1;32m      1\u001b[0m \u001b[0;31m# Можно найти logloss\u001b[0m\u001b[0;34m\u001b[0m\u001b[0;34m\u001b[0m\u001b[0;34m\u001b[0m\u001b[0m\n\u001b[0;32m----> 2\u001b[0;31m \u001b[0mlog_loss\u001b[0m\u001b[0;34m(\u001b[0m\u001b[0my_test\u001b[0m\u001b[0;34m,\u001b[0m\u001b[0mmodel\u001b[0m\u001b[0;34m.\u001b[0m\u001b[0mpredict_proba\u001b[0m\u001b[0;34m(\u001b[0m\u001b[0mX_test\u001b[0m\u001b[0;34m)\u001b[0m\u001b[0;34m)\u001b[0m\u001b[0;34m\u001b[0m\u001b[0;34m\u001b[0m\u001b[0m\n\u001b[0m",
            "\u001b[0;31mAttributeError\u001b[0m: 'Sequential' object has no attribute 'predict_proba'"
          ]
        }
      ]
    },
    {
      "cell_type": "code",
      "metadata": {
        "id": "-o5JqrzGw-aJ",
        "colab": {
          "base_uri": "https://localhost:8080/"
        },
        "outputId": "c429348a-4aa7-44b7-9eff-cb8fa41535cd"
      },
      "source": [
        "# Можно найти logloss \n",
        "log_loss(y_test,model.predict(X_test))"
      ],
      "execution_count": null,
      "outputs": [
        {
          "output_type": "execute_result",
          "data": {
            "text/plain": [
              "0.9254579293122462"
            ]
          },
          "metadata": {},
          "execution_count": 46
        }
      ]
    },
    {
      "cell_type": "code",
      "metadata": {
        "id": "Q7BsPHknajY_"
      },
      "source": [
        "# Можно сохранить модель\n",
        "model.save(\"weights.h5\")"
      ],
      "execution_count": null,
      "outputs": []
    },
    {
      "cell_type": "code",
      "metadata": {
        "id": "0wEOiJMoajY_",
        "colab": {
          "base_uri": "https://localhost:8080/"
        },
        "outputId": "d57752f5-0263-4d2b-c8e0-b3915fda310c"
      },
      "source": [
        "# Можно посмотреть на качество модели по всем указанным при коммпиляции метрикам. \n",
        "score = model.evaluate(X_test, to_categorical(y_test), verbose=0)\n",
        "score "
      ],
      "execution_count": null,
      "outputs": [
        {
          "output_type": "execute_result",
          "data": {
            "text/plain": [
              "[0.9254578948020935, 0.6161616444587708]"
            ]
          },
          "metadata": {},
          "execution_count": 48
        }
      ]
    },
    {
      "cell_type": "markdown",
      "metadata": {
        "id": "6fA-swsbajZA"
      },
      "source": [
        "Модель сходится довольно плохо. Функция потерь на валидации со временем начинает скакать. __Как думаете, с чем это связано?__\n",
        "\n",
        "----------------------------------"
      ]
    },
    {
      "cell_type": "markdown",
      "metadata": {
        "id": "kXrgUqbJajZA"
      },
      "source": [
        "__Ответ:__ Вспомним про такую замечательную штуку как нормальзация и посмотрим насколько она улучшит скорость обучения и качество модели."
      ]
    },
    {
      "cell_type": "code",
      "metadata": {
        "id": "P7J62lcNajZB"
      },
      "source": [
        "from sklearn.preprocessing import StandardScaler\n",
        "scaler = StandardScaler()\n",
        "\n",
        "X_train = scaler.fit_transform(X_train)\n",
        "X_test = scaler.transform(X_test)"
      ],
      "execution_count": null,
      "outputs": []
    },
    {
      "cell_type": "markdown",
      "metadata": {
        "id": "0ZKU4ff0ajZB"
      },
      "source": [
        "Обучаем модель на нормализованных данных. Попробуем учить подольше. Так сказать: двойной удар по сходимости. "
      ]
    },
    {
      "cell_type": "code",
      "metadata": {
        "id": "LKKu6Y-bajZC",
        "colab": {
          "base_uri": "https://localhost:8080/"
        },
        "outputId": "402841ec-dfae-4fcb-ee45-a84f73dc1726"
      },
      "source": [
        "model = get_new_model( )  # Эпох стало 300 вместо 100\n",
        "hist = model.fit(X_train, to_categorical(y_train), validation_split=0.2, epochs=300, verbose=1)"
      ],
      "execution_count": null,
      "outputs": [
        {
          "output_type": "stream",
          "name": "stdout",
          "text": [
            "Epoch 1/300\n",
            "535/535 [==============================] - 2s 2ms/step - loss: 1.1252 - accuracy: 0.5281 - val_loss: 0.9828 - val_accuracy: 0.6067\n",
            "Epoch 2/300\n",
            "535/535 [==============================] - 1s 2ms/step - loss: 0.9522 - accuracy: 0.6093 - val_loss: 0.9003 - val_accuracy: 0.6282\n",
            "Epoch 3/300\n",
            "535/535 [==============================] - 1s 2ms/step - loss: 0.8948 - accuracy: 0.6338 - val_loss: 0.8770 - val_accuracy: 0.6399\n",
            "Epoch 4/300\n",
            "535/535 [==============================] - 1s 2ms/step - loss: 0.8829 - accuracy: 0.6392 - val_loss: 0.8704 - val_accuracy: 0.6418\n",
            "Epoch 5/300\n",
            "535/535 [==============================] - 1s 2ms/step - loss: 0.8770 - accuracy: 0.6399 - val_loss: 0.8634 - val_accuracy: 0.6455\n",
            "Epoch 6/300\n",
            "535/535 [==============================] - 1s 2ms/step - loss: 0.8715 - accuracy: 0.6427 - val_loss: 0.8584 - val_accuracy: 0.6446\n",
            "Epoch 7/300\n",
            "535/535 [==============================] - 1s 2ms/step - loss: 0.8662 - accuracy: 0.6416 - val_loss: 0.8549 - val_accuracy: 0.6423\n",
            "Epoch 8/300\n",
            "535/535 [==============================] - 1s 2ms/step - loss: 0.8611 - accuracy: 0.6427 - val_loss: 0.8515 - val_accuracy: 0.6444\n",
            "Epoch 9/300\n",
            "535/535 [==============================] - 1s 2ms/step - loss: 0.8572 - accuracy: 0.6445 - val_loss: 0.8462 - val_accuracy: 0.6448\n",
            "Epoch 10/300\n",
            "535/535 [==============================] - 1s 2ms/step - loss: 0.8529 - accuracy: 0.6451 - val_loss: 0.8444 - val_accuracy: 0.6434\n",
            "Epoch 11/300\n",
            "535/535 [==============================] - 1s 2ms/step - loss: 0.8493 - accuracy: 0.6479 - val_loss: 0.8421 - val_accuracy: 0.6462\n",
            "Epoch 12/300\n",
            "535/535 [==============================] - 1s 2ms/step - loss: 0.8458 - accuracy: 0.6493 - val_loss: 0.8411 - val_accuracy: 0.6507\n",
            "Epoch 13/300\n",
            "535/535 [==============================] - 1s 2ms/step - loss: 0.8432 - accuracy: 0.6517 - val_loss: 0.8350 - val_accuracy: 0.6484\n",
            "Epoch 14/300\n",
            "535/535 [==============================] - 1s 2ms/step - loss: 0.8400 - accuracy: 0.6513 - val_loss: 0.8331 - val_accuracy: 0.6495\n",
            "Epoch 15/300\n",
            "535/535 [==============================] - 1s 2ms/step - loss: 0.8376 - accuracy: 0.6535 - val_loss: 0.8343 - val_accuracy: 0.6519\n",
            "Epoch 16/300\n",
            "535/535 [==============================] - 1s 2ms/step - loss: 0.8350 - accuracy: 0.6532 - val_loss: 0.8309 - val_accuracy: 0.6498\n",
            "Epoch 17/300\n",
            "535/535 [==============================] - 1s 2ms/step - loss: 0.8328 - accuracy: 0.6540 - val_loss: 0.8321 - val_accuracy: 0.6537\n",
            "Epoch 18/300\n",
            "535/535 [==============================] - 1s 2ms/step - loss: 0.8299 - accuracy: 0.6547 - val_loss: 0.8302 - val_accuracy: 0.6537\n",
            "Epoch 19/300\n",
            "535/535 [==============================] - 1s 2ms/step - loss: 0.8276 - accuracy: 0.6577 - val_loss: 0.8264 - val_accuracy: 0.6519\n",
            "Epoch 20/300\n",
            "535/535 [==============================] - 1s 2ms/step - loss: 0.8249 - accuracy: 0.6568 - val_loss: 0.8238 - val_accuracy: 0.6498\n",
            "Epoch 21/300\n",
            "535/535 [==============================] - 1s 2ms/step - loss: 0.8229 - accuracy: 0.6561 - val_loss: 0.8235 - val_accuracy: 0.6558\n",
            "Epoch 22/300\n",
            "535/535 [==============================] - 1s 2ms/step - loss: 0.8197 - accuracy: 0.6576 - val_loss: 0.8262 - val_accuracy: 0.6512\n",
            "Epoch 23/300\n",
            "535/535 [==============================] - 1s 2ms/step - loss: 0.8182 - accuracy: 0.6597 - val_loss: 0.8179 - val_accuracy: 0.6572\n",
            "Epoch 24/300\n",
            "535/535 [==============================] - 1s 2ms/step - loss: 0.8155 - accuracy: 0.6614 - val_loss: 0.8182 - val_accuracy: 0.6558\n",
            "Epoch 25/300\n",
            "535/535 [==============================] - 1s 2ms/step - loss: 0.8134 - accuracy: 0.6609 - val_loss: 0.8154 - val_accuracy: 0.6579\n",
            "Epoch 26/300\n",
            "535/535 [==============================] - 1s 2ms/step - loss: 0.8111 - accuracy: 0.6623 - val_loss: 0.8166 - val_accuracy: 0.6572\n",
            "Epoch 27/300\n",
            "535/535 [==============================] - 1s 2ms/step - loss: 0.8089 - accuracy: 0.6629 - val_loss: 0.8126 - val_accuracy: 0.6614\n",
            "Epoch 28/300\n",
            "535/535 [==============================] - 1s 2ms/step - loss: 0.8073 - accuracy: 0.6643 - val_loss: 0.8118 - val_accuracy: 0.6575\n",
            "Epoch 29/300\n",
            "535/535 [==============================] - 1s 2ms/step - loss: 0.8053 - accuracy: 0.6649 - val_loss: 0.8101 - val_accuracy: 0.6645\n",
            "Epoch 30/300\n",
            "535/535 [==============================] - 1s 2ms/step - loss: 0.8031 - accuracy: 0.6655 - val_loss: 0.8158 - val_accuracy: 0.6607\n",
            "Epoch 31/300\n",
            "535/535 [==============================] - 1s 2ms/step - loss: 0.8014 - accuracy: 0.6655 - val_loss: 0.8087 - val_accuracy: 0.6626\n",
            "Epoch 32/300\n",
            "535/535 [==============================] - 1s 2ms/step - loss: 0.7997 - accuracy: 0.6646 - val_loss: 0.8099 - val_accuracy: 0.6659\n",
            "Epoch 33/300\n",
            "535/535 [==============================] - 1s 2ms/step - loss: 0.7982 - accuracy: 0.6674 - val_loss: 0.8089 - val_accuracy: 0.6666\n",
            "Epoch 34/300\n",
            "535/535 [==============================] - 1s 2ms/step - loss: 0.7966 - accuracy: 0.6679 - val_loss: 0.8068 - val_accuracy: 0.6633\n",
            "Epoch 35/300\n",
            "535/535 [==============================] - 1s 2ms/step - loss: 0.7951 - accuracy: 0.6667 - val_loss: 0.8158 - val_accuracy: 0.6542\n",
            "Epoch 36/300\n",
            "535/535 [==============================] - 1s 2ms/step - loss: 0.7938 - accuracy: 0.6681 - val_loss: 0.8078 - val_accuracy: 0.6635\n",
            "Epoch 37/300\n",
            "535/535 [==============================] - 1s 2ms/step - loss: 0.7921 - accuracy: 0.6695 - val_loss: 0.8070 - val_accuracy: 0.6654\n",
            "Epoch 38/300\n",
            "535/535 [==============================] - 1s 2ms/step - loss: 0.7913 - accuracy: 0.6686 - val_loss: 0.8053 - val_accuracy: 0.6635\n",
            "Epoch 39/300\n",
            "535/535 [==============================] - 1s 2ms/step - loss: 0.7903 - accuracy: 0.6702 - val_loss: 0.8031 - val_accuracy: 0.6652\n",
            "Epoch 40/300\n",
            "535/535 [==============================] - 1s 2ms/step - loss: 0.7886 - accuracy: 0.6709 - val_loss: 0.8043 - val_accuracy: 0.6598\n",
            "Epoch 41/300\n",
            "535/535 [==============================] - 1s 2ms/step - loss: 0.7873 - accuracy: 0.6700 - val_loss: 0.8067 - val_accuracy: 0.6638\n",
            "Epoch 42/300\n",
            "535/535 [==============================] - 1s 2ms/step - loss: 0.7873 - accuracy: 0.6701 - val_loss: 0.8028 - val_accuracy: 0.6638\n",
            "Epoch 43/300\n",
            "535/535 [==============================] - 1s 2ms/step - loss: 0.7854 - accuracy: 0.6723 - val_loss: 0.8030 - val_accuracy: 0.6640\n",
            "Epoch 44/300\n",
            "535/535 [==============================] - 1s 2ms/step - loss: 0.7846 - accuracy: 0.6711 - val_loss: 0.8034 - val_accuracy: 0.6640\n",
            "Epoch 45/300\n",
            "535/535 [==============================] - 1s 2ms/step - loss: 0.7832 - accuracy: 0.6741 - val_loss: 0.8038 - val_accuracy: 0.6612\n",
            "Epoch 46/300\n",
            "535/535 [==============================] - 1s 2ms/step - loss: 0.7827 - accuracy: 0.6740 - val_loss: 0.8074 - val_accuracy: 0.6628\n",
            "Epoch 47/300\n",
            "535/535 [==============================] - 1s 2ms/step - loss: 0.7814 - accuracy: 0.6732 - val_loss: 0.8040 - val_accuracy: 0.6633\n",
            "Epoch 48/300\n",
            "535/535 [==============================] - 1s 2ms/step - loss: 0.7807 - accuracy: 0.6730 - val_loss: 0.8015 - val_accuracy: 0.6645\n",
            "Epoch 49/300\n",
            "535/535 [==============================] - 1s 2ms/step - loss: 0.7803 - accuracy: 0.6715 - val_loss: 0.8010 - val_accuracy: 0.6638\n",
            "Epoch 50/300\n",
            "535/535 [==============================] - 1s 2ms/step - loss: 0.7789 - accuracy: 0.6754 - val_loss: 0.8027 - val_accuracy: 0.6619\n",
            "Epoch 51/300\n",
            "535/535 [==============================] - 1s 2ms/step - loss: 0.7786 - accuracy: 0.6746 - val_loss: 0.8009 - val_accuracy: 0.6654\n",
            "Epoch 52/300\n",
            "535/535 [==============================] - 1s 2ms/step - loss: 0.7774 - accuracy: 0.6757 - val_loss: 0.8018 - val_accuracy: 0.6607\n",
            "Epoch 53/300\n",
            "535/535 [==============================] - 1s 2ms/step - loss: 0.7769 - accuracy: 0.6767 - val_loss: 0.8067 - val_accuracy: 0.6600\n",
            "Epoch 54/300\n",
            "535/535 [==============================] - 1s 2ms/step - loss: 0.7762 - accuracy: 0.6778 - val_loss: 0.7979 - val_accuracy: 0.6645\n",
            "Epoch 55/300\n",
            "535/535 [==============================] - 1s 2ms/step - loss: 0.7751 - accuracy: 0.6754 - val_loss: 0.7988 - val_accuracy: 0.6671\n",
            "Epoch 56/300\n",
            "535/535 [==============================] - 1s 2ms/step - loss: 0.7740 - accuracy: 0.6777 - val_loss: 0.8005 - val_accuracy: 0.6638\n",
            "Epoch 57/300\n",
            "535/535 [==============================] - 1s 2ms/step - loss: 0.7732 - accuracy: 0.6756 - val_loss: 0.8057 - val_accuracy: 0.6586\n",
            "Epoch 58/300\n",
            "535/535 [==============================] - 1s 2ms/step - loss: 0.7736 - accuracy: 0.6752 - val_loss: 0.7993 - val_accuracy: 0.6650\n",
            "Epoch 59/300\n",
            "535/535 [==============================] - 1s 2ms/step - loss: 0.7724 - accuracy: 0.6787 - val_loss: 0.7990 - val_accuracy: 0.6654\n",
            "Epoch 60/300\n",
            "535/535 [==============================] - 1s 2ms/step - loss: 0.7714 - accuracy: 0.6781 - val_loss: 0.7993 - val_accuracy: 0.6671\n",
            "Epoch 61/300\n",
            "535/535 [==============================] - 1s 2ms/step - loss: 0.7711 - accuracy: 0.6758 - val_loss: 0.7987 - val_accuracy: 0.6673\n",
            "Epoch 62/300\n",
            "535/535 [==============================] - 1s 2ms/step - loss: 0.7703 - accuracy: 0.6785 - val_loss: 0.8009 - val_accuracy: 0.6666\n",
            "Epoch 63/300\n",
            "535/535 [==============================] - 1s 2ms/step - loss: 0.7691 - accuracy: 0.6792 - val_loss: 0.8003 - val_accuracy: 0.6633\n",
            "Epoch 64/300\n",
            "535/535 [==============================] - 1s 2ms/step - loss: 0.7682 - accuracy: 0.6797 - val_loss: 0.7992 - val_accuracy: 0.6640\n",
            "Epoch 65/300\n",
            "535/535 [==============================] - 1s 2ms/step - loss: 0.7684 - accuracy: 0.6789 - val_loss: 0.7972 - val_accuracy: 0.6671\n",
            "Epoch 66/300\n",
            "535/535 [==============================] - 1s 2ms/step - loss: 0.7670 - accuracy: 0.6796 - val_loss: 0.7995 - val_accuracy: 0.6666\n",
            "Epoch 67/300\n",
            "535/535 [==============================] - 1s 2ms/step - loss: 0.7672 - accuracy: 0.6781 - val_loss: 0.7999 - val_accuracy: 0.6666\n",
            "Epoch 68/300\n",
            "535/535 [==============================] - 1s 2ms/step - loss: 0.7660 - accuracy: 0.6804 - val_loss: 0.7993 - val_accuracy: 0.6624\n",
            "Epoch 69/300\n",
            "535/535 [==============================] - 1s 2ms/step - loss: 0.7658 - accuracy: 0.6785 - val_loss: 0.7988 - val_accuracy: 0.6685\n",
            "Epoch 70/300\n",
            "535/535 [==============================] - 1s 2ms/step - loss: 0.7654 - accuracy: 0.6802 - val_loss: 0.7975 - val_accuracy: 0.6659\n",
            "Epoch 71/300\n",
            "535/535 [==============================] - 1s 2ms/step - loss: 0.7643 - accuracy: 0.6795 - val_loss: 0.7990 - val_accuracy: 0.6687\n",
            "Epoch 72/300\n",
            "535/535 [==============================] - 1s 2ms/step - loss: 0.7638 - accuracy: 0.6801 - val_loss: 0.7987 - val_accuracy: 0.6694\n",
            "Epoch 73/300\n",
            "535/535 [==============================] - 1s 2ms/step - loss: 0.7629 - accuracy: 0.6798 - val_loss: 0.7993 - val_accuracy: 0.6652\n",
            "Epoch 74/300\n",
            "535/535 [==============================] - 1s 2ms/step - loss: 0.7629 - accuracy: 0.6793 - val_loss: 0.7982 - val_accuracy: 0.6661\n",
            "Epoch 75/300\n",
            "535/535 [==============================] - 1s 2ms/step - loss: 0.7613 - accuracy: 0.6824 - val_loss: 0.8007 - val_accuracy: 0.6645\n",
            "Epoch 76/300\n",
            "535/535 [==============================] - 1s 2ms/step - loss: 0.7615 - accuracy: 0.6801 - val_loss: 0.7994 - val_accuracy: 0.6645\n",
            "Epoch 77/300\n",
            "535/535 [==============================] - 1s 2ms/step - loss: 0.7611 - accuracy: 0.6813 - val_loss: 0.7982 - val_accuracy: 0.6680\n",
            "Epoch 78/300\n",
            "535/535 [==============================] - 1s 2ms/step - loss: 0.7597 - accuracy: 0.6813 - val_loss: 0.7985 - val_accuracy: 0.6671\n",
            "Epoch 79/300\n",
            "535/535 [==============================] - 1s 2ms/step - loss: 0.7594 - accuracy: 0.6823 - val_loss: 0.7987 - val_accuracy: 0.6701\n",
            "Epoch 80/300\n",
            "535/535 [==============================] - 1s 2ms/step - loss: 0.7594 - accuracy: 0.6809 - val_loss: 0.8001 - val_accuracy: 0.6678\n",
            "Epoch 81/300\n",
            "535/535 [==============================] - 1s 2ms/step - loss: 0.7589 - accuracy: 0.6830 - val_loss: 0.7991 - val_accuracy: 0.6680\n",
            "Epoch 82/300\n",
            "535/535 [==============================] - 1s 2ms/step - loss: 0.7588 - accuracy: 0.6804 - val_loss: 0.8000 - val_accuracy: 0.6666\n",
            "Epoch 83/300\n",
            "535/535 [==============================] - 1s 2ms/step - loss: 0.7581 - accuracy: 0.6827 - val_loss: 0.8001 - val_accuracy: 0.6659\n",
            "Epoch 84/300\n",
            "535/535 [==============================] - 1s 2ms/step - loss: 0.7574 - accuracy: 0.6809 - val_loss: 0.7990 - val_accuracy: 0.6666\n",
            "Epoch 85/300\n",
            "535/535 [==============================] - 1s 2ms/step - loss: 0.7563 - accuracy: 0.6841 - val_loss: 0.8008 - val_accuracy: 0.6647\n",
            "Epoch 86/300\n",
            "535/535 [==============================] - 1s 2ms/step - loss: 0.7568 - accuracy: 0.6818 - val_loss: 0.8029 - val_accuracy: 0.6666\n",
            "Epoch 87/300\n",
            "535/535 [==============================] - 1s 2ms/step - loss: 0.7563 - accuracy: 0.6842 - val_loss: 0.8008 - val_accuracy: 0.6643\n",
            "Epoch 88/300\n",
            "535/535 [==============================] - 1s 2ms/step - loss: 0.7556 - accuracy: 0.6814 - val_loss: 0.7995 - val_accuracy: 0.6699\n",
            "Epoch 89/300\n",
            "535/535 [==============================] - 1s 2ms/step - loss: 0.7542 - accuracy: 0.6844 - val_loss: 0.8020 - val_accuracy: 0.6654\n",
            "Epoch 90/300\n",
            "535/535 [==============================] - 1s 2ms/step - loss: 0.7556 - accuracy: 0.6820 - val_loss: 0.7994 - val_accuracy: 0.6671\n",
            "Epoch 91/300\n",
            "535/535 [==============================] - 1s 2ms/step - loss: 0.7547 - accuracy: 0.6812 - val_loss: 0.7997 - val_accuracy: 0.6638\n",
            "Epoch 92/300\n",
            "535/535 [==============================] - 1s 2ms/step - loss: 0.7540 - accuracy: 0.6831 - val_loss: 0.8013 - val_accuracy: 0.6635\n",
            "Epoch 93/300\n",
            "535/535 [==============================] - 1s 2ms/step - loss: 0.7532 - accuracy: 0.6839 - val_loss: 0.8020 - val_accuracy: 0.6650\n",
            "Epoch 94/300\n",
            "535/535 [==============================] - 1s 2ms/step - loss: 0.7534 - accuracy: 0.6829 - val_loss: 0.7993 - val_accuracy: 0.6659\n",
            "Epoch 95/300\n",
            "535/535 [==============================] - 1s 2ms/step - loss: 0.7526 - accuracy: 0.6850 - val_loss: 0.8061 - val_accuracy: 0.6570\n",
            "Epoch 96/300\n",
            "535/535 [==============================] - 1s 2ms/step - loss: 0.7525 - accuracy: 0.6836 - val_loss: 0.8006 - val_accuracy: 0.6680\n",
            "Epoch 97/300\n",
            "535/535 [==============================] - 1s 2ms/step - loss: 0.7517 - accuracy: 0.6834 - val_loss: 0.8018 - val_accuracy: 0.6640\n",
            "Epoch 98/300\n",
            "535/535 [==============================] - 1s 2ms/step - loss: 0.7520 - accuracy: 0.6819 - val_loss: 0.8008 - val_accuracy: 0.6668\n",
            "Epoch 99/300\n",
            "535/535 [==============================] - 1s 2ms/step - loss: 0.7515 - accuracy: 0.6823 - val_loss: 0.8005 - val_accuracy: 0.6628\n",
            "Epoch 100/300\n",
            "535/535 [==============================] - 1s 2ms/step - loss: 0.7512 - accuracy: 0.6844 - val_loss: 0.7994 - val_accuracy: 0.6635\n",
            "Epoch 101/300\n",
            "535/535 [==============================] - 1s 2ms/step - loss: 0.7507 - accuracy: 0.6836 - val_loss: 0.8005 - val_accuracy: 0.6633\n",
            "Epoch 102/300\n",
            "535/535 [==============================] - 1s 2ms/step - loss: 0.7501 - accuracy: 0.6846 - val_loss: 0.7995 - val_accuracy: 0.6654\n",
            "Epoch 103/300\n",
            "535/535 [==============================] - 1s 2ms/step - loss: 0.7503 - accuracy: 0.6838 - val_loss: 0.8005 - val_accuracy: 0.6687\n",
            "Epoch 104/300\n",
            "535/535 [==============================] - 1s 2ms/step - loss: 0.7492 - accuracy: 0.6826 - val_loss: 0.8024 - val_accuracy: 0.6631\n",
            "Epoch 105/300\n",
            "535/535 [==============================] - 1s 2ms/step - loss: 0.7492 - accuracy: 0.6864 - val_loss: 0.8004 - val_accuracy: 0.6631\n",
            "Epoch 106/300\n",
            "535/535 [==============================] - 1s 2ms/step - loss: 0.7484 - accuracy: 0.6851 - val_loss: 0.8034 - val_accuracy: 0.6652\n",
            "Epoch 107/300\n",
            "535/535 [==============================] - 1s 2ms/step - loss: 0.7482 - accuracy: 0.6864 - val_loss: 0.8021 - val_accuracy: 0.6617\n",
            "Epoch 108/300\n",
            "535/535 [==============================] - 1s 2ms/step - loss: 0.7478 - accuracy: 0.6832 - val_loss: 0.8007 - val_accuracy: 0.6619\n",
            "Epoch 109/300\n",
            "535/535 [==============================] - 1s 2ms/step - loss: 0.7477 - accuracy: 0.6858 - val_loss: 0.8003 - val_accuracy: 0.6605\n",
            "Epoch 110/300\n",
            "535/535 [==============================] - 1s 2ms/step - loss: 0.7472 - accuracy: 0.6845 - val_loss: 0.8011 - val_accuracy: 0.6633\n",
            "Epoch 111/300\n",
            "535/535 [==============================] - 1s 2ms/step - loss: 0.7470 - accuracy: 0.6832 - val_loss: 0.8016 - val_accuracy: 0.6645\n",
            "Epoch 112/300\n",
            "535/535 [==============================] - 1s 2ms/step - loss: 0.7471 - accuracy: 0.6861 - val_loss: 0.7997 - val_accuracy: 0.6626\n",
            "Epoch 113/300\n",
            "535/535 [==============================] - 1s 2ms/step - loss: 0.7469 - accuracy: 0.6848 - val_loss: 0.8029 - val_accuracy: 0.6643\n",
            "Epoch 114/300\n",
            "535/535 [==============================] - 1s 2ms/step - loss: 0.7467 - accuracy: 0.6849 - val_loss: 0.8007 - val_accuracy: 0.6647\n",
            "Epoch 115/300\n",
            "535/535 [==============================] - 1s 2ms/step - loss: 0.7459 - accuracy: 0.6837 - val_loss: 0.8007 - val_accuracy: 0.6650\n",
            "Epoch 116/300\n",
            "535/535 [==============================] - 1s 2ms/step - loss: 0.7450 - accuracy: 0.6863 - val_loss: 0.8047 - val_accuracy: 0.6605\n",
            "Epoch 117/300\n",
            "535/535 [==============================] - 1s 2ms/step - loss: 0.7456 - accuracy: 0.6845 - val_loss: 0.8045 - val_accuracy: 0.6635\n",
            "Epoch 118/300\n",
            "535/535 [==============================] - 1s 2ms/step - loss: 0.7451 - accuracy: 0.6863 - val_loss: 0.8025 - val_accuracy: 0.6628\n",
            "Epoch 119/300\n",
            "535/535 [==============================] - 1s 2ms/step - loss: 0.7448 - accuracy: 0.6857 - val_loss: 0.8010 - val_accuracy: 0.6643\n",
            "Epoch 120/300\n",
            "535/535 [==============================] - 1s 2ms/step - loss: 0.7442 - accuracy: 0.6874 - val_loss: 0.8006 - val_accuracy: 0.6650\n",
            "Epoch 121/300\n",
            "535/535 [==============================] - 1s 2ms/step - loss: 0.7444 - accuracy: 0.6872 - val_loss: 0.8024 - val_accuracy: 0.6640\n",
            "Epoch 122/300\n",
            "535/535 [==============================] - 1s 2ms/step - loss: 0.7437 - accuracy: 0.6853 - val_loss: 0.8009 - val_accuracy: 0.6628\n",
            "Epoch 123/300\n",
            "535/535 [==============================] - 1s 2ms/step - loss: 0.7434 - accuracy: 0.6865 - val_loss: 0.8041 - val_accuracy: 0.6586\n",
            "Epoch 124/300\n",
            "535/535 [==============================] - 1s 2ms/step - loss: 0.7434 - accuracy: 0.6872 - val_loss: 0.8014 - val_accuracy: 0.6619\n",
            "Epoch 125/300\n",
            "535/535 [==============================] - 1s 2ms/step - loss: 0.7428 - accuracy: 0.6877 - val_loss: 0.8014 - val_accuracy: 0.6654\n",
            "Epoch 126/300\n",
            "535/535 [==============================] - 1s 2ms/step - loss: 0.7428 - accuracy: 0.6848 - val_loss: 0.8043 - val_accuracy: 0.6558\n",
            "Epoch 127/300\n",
            "535/535 [==============================] - 1s 2ms/step - loss: 0.7426 - accuracy: 0.6873 - val_loss: 0.8032 - val_accuracy: 0.6643\n",
            "Epoch 128/300\n",
            "535/535 [==============================] - 1s 2ms/step - loss: 0.7419 - accuracy: 0.6870 - val_loss: 0.8029 - val_accuracy: 0.6633\n",
            "Epoch 129/300\n",
            "535/535 [==============================] - 1s 2ms/step - loss: 0.7419 - accuracy: 0.6850 - val_loss: 0.8037 - val_accuracy: 0.6635\n",
            "Epoch 130/300\n",
            "535/535 [==============================] - 1s 2ms/step - loss: 0.7415 - accuracy: 0.6885 - val_loss: 0.8012 - val_accuracy: 0.6591\n",
            "Epoch 131/300\n",
            "535/535 [==============================] - 1s 2ms/step - loss: 0.7415 - accuracy: 0.6868 - val_loss: 0.8036 - val_accuracy: 0.6631\n",
            "Epoch 132/300\n",
            "535/535 [==============================] - 1s 2ms/step - loss: 0.7406 - accuracy: 0.6872 - val_loss: 0.8018 - val_accuracy: 0.6666\n",
            "Epoch 133/300\n",
            "535/535 [==============================] - 1s 2ms/step - loss: 0.7416 - accuracy: 0.6882 - val_loss: 0.8026 - val_accuracy: 0.6605\n",
            "Epoch 134/300\n",
            "535/535 [==============================] - 1s 2ms/step - loss: 0.7405 - accuracy: 0.6877 - val_loss: 0.8013 - val_accuracy: 0.6661\n",
            "Epoch 135/300\n",
            "535/535 [==============================] - 1s 2ms/step - loss: 0.7403 - accuracy: 0.6885 - val_loss: 0.8016 - val_accuracy: 0.6621\n",
            "Epoch 136/300\n",
            "535/535 [==============================] - 1s 2ms/step - loss: 0.7394 - accuracy: 0.6872 - val_loss: 0.8031 - val_accuracy: 0.6626\n",
            "Epoch 137/300\n",
            "535/535 [==============================] - 1s 2ms/step - loss: 0.7397 - accuracy: 0.6866 - val_loss: 0.8022 - val_accuracy: 0.6628\n",
            "Epoch 138/300\n",
            "535/535 [==============================] - 1s 2ms/step - loss: 0.7392 - accuracy: 0.6851 - val_loss: 0.8024 - val_accuracy: 0.6638\n",
            "Epoch 139/300\n",
            "535/535 [==============================] - 1s 2ms/step - loss: 0.7390 - accuracy: 0.6880 - val_loss: 0.8022 - val_accuracy: 0.6631\n",
            "Epoch 140/300\n",
            "535/535 [==============================] - 1s 2ms/step - loss: 0.7387 - accuracy: 0.6879 - val_loss: 0.8034 - val_accuracy: 0.6652\n",
            "Epoch 141/300\n",
            "535/535 [==============================] - 1s 2ms/step - loss: 0.7385 - accuracy: 0.6893 - val_loss: 0.8033 - val_accuracy: 0.6612\n",
            "Epoch 142/300\n",
            "535/535 [==============================] - 1s 2ms/step - loss: 0.7387 - accuracy: 0.6883 - val_loss: 0.8025 - val_accuracy: 0.6657\n",
            "Epoch 143/300\n",
            "535/535 [==============================] - 1s 2ms/step - loss: 0.7379 - accuracy: 0.6878 - val_loss: 0.8014 - val_accuracy: 0.6626\n",
            "Epoch 144/300\n",
            "535/535 [==============================] - 1s 2ms/step - loss: 0.7377 - accuracy: 0.6892 - val_loss: 0.8042 - val_accuracy: 0.6640\n",
            "Epoch 145/300\n",
            "535/535 [==============================] - 1s 2ms/step - loss: 0.7379 - accuracy: 0.6891 - val_loss: 0.8024 - val_accuracy: 0.6633\n",
            "Epoch 146/300\n",
            "535/535 [==============================] - 1s 2ms/step - loss: 0.7374 - accuracy: 0.6885 - val_loss: 0.8022 - val_accuracy: 0.6668\n",
            "Epoch 147/300\n",
            "535/535 [==============================] - 1s 2ms/step - loss: 0.7369 - accuracy: 0.6885 - val_loss: 0.8033 - val_accuracy: 0.6626\n",
            "Epoch 148/300\n",
            "535/535 [==============================] - 1s 2ms/step - loss: 0.7372 - accuracy: 0.6884 - val_loss: 0.8018 - val_accuracy: 0.6647\n",
            "Epoch 149/300\n",
            "535/535 [==============================] - 1s 2ms/step - loss: 0.7371 - accuracy: 0.6887 - val_loss: 0.8038 - val_accuracy: 0.6633\n",
            "Epoch 150/300\n",
            "535/535 [==============================] - 1s 2ms/step - loss: 0.7362 - accuracy: 0.6885 - val_loss: 0.8039 - val_accuracy: 0.6635\n",
            "Epoch 151/300\n",
            "535/535 [==============================] - 1s 2ms/step - loss: 0.7362 - accuracy: 0.6885 - val_loss: 0.8056 - val_accuracy: 0.6640\n",
            "Epoch 152/300\n",
            "535/535 [==============================] - 1s 2ms/step - loss: 0.7359 - accuracy: 0.6894 - val_loss: 0.8048 - val_accuracy: 0.6643\n",
            "Epoch 153/300\n",
            "535/535 [==============================] - 1s 2ms/step - loss: 0.7360 - accuracy: 0.6888 - val_loss: 0.8033 - val_accuracy: 0.6624\n",
            "Epoch 154/300\n",
            "535/535 [==============================] - 1s 2ms/step - loss: 0.7357 - accuracy: 0.6872 - val_loss: 0.8025 - val_accuracy: 0.6640\n",
            "Epoch 155/300\n",
            "535/535 [==============================] - 1s 2ms/step - loss: 0.7357 - accuracy: 0.6894 - val_loss: 0.8039 - val_accuracy: 0.6666\n",
            "Epoch 156/300\n",
            "535/535 [==============================] - 1s 2ms/step - loss: 0.7352 - accuracy: 0.6910 - val_loss: 0.8033 - val_accuracy: 0.6652\n",
            "Epoch 157/300\n",
            "535/535 [==============================] - 1s 2ms/step - loss: 0.7350 - accuracy: 0.6901 - val_loss: 0.8050 - val_accuracy: 0.6640\n",
            "Epoch 158/300\n",
            "535/535 [==============================] - 1s 2ms/step - loss: 0.7344 - accuracy: 0.6897 - val_loss: 0.8056 - val_accuracy: 0.6643\n",
            "Epoch 159/300\n",
            "535/535 [==============================] - 1s 2ms/step - loss: 0.7340 - accuracy: 0.6888 - val_loss: 0.8076 - val_accuracy: 0.6614\n",
            "Epoch 160/300\n",
            "535/535 [==============================] - 1s 2ms/step - loss: 0.7340 - accuracy: 0.6888 - val_loss: 0.8090 - val_accuracy: 0.6631\n",
            "Epoch 161/300\n",
            "535/535 [==============================] - 1s 2ms/step - loss: 0.7345 - accuracy: 0.6893 - val_loss: 0.8027 - val_accuracy: 0.6645\n",
            "Epoch 162/300\n",
            "535/535 [==============================] - 1s 2ms/step - loss: 0.7337 - accuracy: 0.6884 - val_loss: 0.8050 - val_accuracy: 0.6607\n",
            "Epoch 163/300\n",
            "535/535 [==============================] - 1s 2ms/step - loss: 0.7334 - accuracy: 0.6894 - val_loss: 0.8052 - val_accuracy: 0.6626\n",
            "Epoch 164/300\n",
            "535/535 [==============================] - 1s 2ms/step - loss: 0.7327 - accuracy: 0.6906 - val_loss: 0.8050 - val_accuracy: 0.6633\n",
            "Epoch 165/300\n",
            "535/535 [==============================] - 1s 2ms/step - loss: 0.7328 - accuracy: 0.6895 - val_loss: 0.8044 - val_accuracy: 0.6633\n",
            "Epoch 166/300\n",
            "535/535 [==============================] - 1s 2ms/step - loss: 0.7328 - accuracy: 0.6882 - val_loss: 0.8082 - val_accuracy: 0.6607\n",
            "Epoch 167/300\n",
            "535/535 [==============================] - 1s 2ms/step - loss: 0.7322 - accuracy: 0.6885 - val_loss: 0.8060 - val_accuracy: 0.6638\n",
            "Epoch 168/300\n",
            "535/535 [==============================] - 1s 2ms/step - loss: 0.7321 - accuracy: 0.6889 - val_loss: 0.8080 - val_accuracy: 0.6600\n",
            "Epoch 169/300\n",
            "535/535 [==============================] - 1s 2ms/step - loss: 0.7317 - accuracy: 0.6899 - val_loss: 0.8056 - val_accuracy: 0.6659\n",
            "Epoch 170/300\n",
            "535/535 [==============================] - 1s 2ms/step - loss: 0.7316 - accuracy: 0.6896 - val_loss: 0.8078 - val_accuracy: 0.6638\n",
            "Epoch 171/300\n",
            "535/535 [==============================] - 1s 2ms/step - loss: 0.7315 - accuracy: 0.6906 - val_loss: 0.8053 - val_accuracy: 0.6640\n",
            "Epoch 172/300\n",
            "535/535 [==============================] - 1s 2ms/step - loss: 0.7313 - accuracy: 0.6905 - val_loss: 0.8058 - val_accuracy: 0.6621\n",
            "Epoch 173/300\n",
            "535/535 [==============================] - 1s 2ms/step - loss: 0.7316 - accuracy: 0.6913 - val_loss: 0.8080 - val_accuracy: 0.6647\n",
            "Epoch 174/300\n",
            "535/535 [==============================] - 1s 2ms/step - loss: 0.7307 - accuracy: 0.6898 - val_loss: 0.8066 - val_accuracy: 0.6617\n",
            "Epoch 175/300\n",
            "535/535 [==============================] - 1s 2ms/step - loss: 0.7303 - accuracy: 0.6893 - val_loss: 0.8087 - val_accuracy: 0.6633\n",
            "Epoch 176/300\n",
            "535/535 [==============================] - 1s 2ms/step - loss: 0.7303 - accuracy: 0.6924 - val_loss: 0.8102 - val_accuracy: 0.6640\n",
            "Epoch 177/300\n",
            "535/535 [==============================] - 1s 2ms/step - loss: 0.7304 - accuracy: 0.6900 - val_loss: 0.8068 - val_accuracy: 0.6685\n",
            "Epoch 178/300\n",
            "535/535 [==============================] - 1s 2ms/step - loss: 0.7299 - accuracy: 0.6883 - val_loss: 0.8077 - val_accuracy: 0.6645\n",
            "Epoch 179/300\n",
            "535/535 [==============================] - 1s 2ms/step - loss: 0.7295 - accuracy: 0.6908 - val_loss: 0.8071 - val_accuracy: 0.6638\n",
            "Epoch 180/300\n",
            "535/535 [==============================] - 1s 2ms/step - loss: 0.7295 - accuracy: 0.6895 - val_loss: 0.8073 - val_accuracy: 0.6650\n",
            "Epoch 181/300\n",
            "535/535 [==============================] - 1s 2ms/step - loss: 0.7297 - accuracy: 0.6906 - val_loss: 0.8056 - val_accuracy: 0.6673\n",
            "Epoch 182/300\n",
            "535/535 [==============================] - 1s 2ms/step - loss: 0.7281 - accuracy: 0.6907 - val_loss: 0.8100 - val_accuracy: 0.6579\n",
            "Epoch 183/300\n",
            "535/535 [==============================] - 1s 2ms/step - loss: 0.7288 - accuracy: 0.6908 - val_loss: 0.8073 - val_accuracy: 0.6652\n",
            "Epoch 184/300\n",
            "535/535 [==============================] - 1s 2ms/step - loss: 0.7288 - accuracy: 0.6909 - val_loss: 0.8068 - val_accuracy: 0.6628\n",
            "Epoch 185/300\n",
            "535/535 [==============================] - 1s 2ms/step - loss: 0.7286 - accuracy: 0.6923 - val_loss: 0.8099 - val_accuracy: 0.6621\n",
            "Epoch 186/300\n",
            "535/535 [==============================] - 1s 2ms/step - loss: 0.7287 - accuracy: 0.6900 - val_loss: 0.8088 - val_accuracy: 0.6612\n",
            "Epoch 187/300\n",
            "535/535 [==============================] - 1s 2ms/step - loss: 0.7286 - accuracy: 0.6905 - val_loss: 0.8078 - val_accuracy: 0.6624\n",
            "Epoch 188/300\n",
            "535/535 [==============================] - 1s 2ms/step - loss: 0.7278 - accuracy: 0.6896 - val_loss: 0.8097 - val_accuracy: 0.6638\n",
            "Epoch 189/300\n",
            "535/535 [==============================] - 1s 2ms/step - loss: 0.7275 - accuracy: 0.6915 - val_loss: 0.8092 - val_accuracy: 0.6614\n",
            "Epoch 190/300\n",
            "535/535 [==============================] - 1s 2ms/step - loss: 0.7273 - accuracy: 0.6908 - val_loss: 0.8101 - val_accuracy: 0.6633\n",
            "Epoch 191/300\n",
            "535/535 [==============================] - 1s 2ms/step - loss: 0.7272 - accuracy: 0.6910 - val_loss: 0.8080 - val_accuracy: 0.6664\n",
            "Epoch 192/300\n",
            "535/535 [==============================] - 1s 2ms/step - loss: 0.7271 - accuracy: 0.6922 - val_loss: 0.8069 - val_accuracy: 0.6664\n",
            "Epoch 193/300\n",
            "535/535 [==============================] - 1s 2ms/step - loss: 0.7269 - accuracy: 0.6898 - val_loss: 0.8078 - val_accuracy: 0.6640\n",
            "Epoch 194/300\n",
            "535/535 [==============================] - 1s 2ms/step - loss: 0.7270 - accuracy: 0.6916 - val_loss: 0.8073 - val_accuracy: 0.6640\n",
            "Epoch 195/300\n",
            "535/535 [==============================] - 1s 2ms/step - loss: 0.7266 - accuracy: 0.6910 - val_loss: 0.8086 - val_accuracy: 0.6664\n",
            "Epoch 196/300\n",
            "535/535 [==============================] - 1s 2ms/step - loss: 0.7261 - accuracy: 0.6922 - val_loss: 0.8089 - val_accuracy: 0.6647\n",
            "Epoch 197/300\n",
            "535/535 [==============================] - 1s 2ms/step - loss: 0.7262 - accuracy: 0.6915 - val_loss: 0.8099 - val_accuracy: 0.6671\n",
            "Epoch 198/300\n",
            "535/535 [==============================] - 1s 2ms/step - loss: 0.7257 - accuracy: 0.6912 - val_loss: 0.8087 - val_accuracy: 0.6694\n",
            "Epoch 199/300\n",
            "535/535 [==============================] - 1s 2ms/step - loss: 0.7259 - accuracy: 0.6918 - val_loss: 0.8105 - val_accuracy: 0.6689\n",
            "Epoch 200/300\n",
            "535/535 [==============================] - 1s 2ms/step - loss: 0.7253 - accuracy: 0.6915 - val_loss: 0.8088 - val_accuracy: 0.6661\n",
            "Epoch 201/300\n",
            "535/535 [==============================] - 1s 2ms/step - loss: 0.7246 - accuracy: 0.6941 - val_loss: 0.8115 - val_accuracy: 0.6659\n",
            "Epoch 202/300\n",
            "535/535 [==============================] - 1s 2ms/step - loss: 0.7255 - accuracy: 0.6922 - val_loss: 0.8100 - val_accuracy: 0.6652\n",
            "Epoch 203/300\n",
            "535/535 [==============================] - 1s 2ms/step - loss: 0.7246 - accuracy: 0.6918 - val_loss: 0.8120 - val_accuracy: 0.6675\n",
            "Epoch 204/300\n",
            "535/535 [==============================] - 1s 2ms/step - loss: 0.7253 - accuracy: 0.6912 - val_loss: 0.8089 - val_accuracy: 0.6682\n",
            "Epoch 205/300\n",
            "535/535 [==============================] - 1s 2ms/step - loss: 0.7247 - accuracy: 0.6910 - val_loss: 0.8108 - val_accuracy: 0.6628\n",
            "Epoch 206/300\n",
            "535/535 [==============================] - 1s 2ms/step - loss: 0.7244 - accuracy: 0.6939 - val_loss: 0.8093 - val_accuracy: 0.6664\n",
            "Epoch 207/300\n",
            "535/535 [==============================] - 1s 2ms/step - loss: 0.7243 - accuracy: 0.6935 - val_loss: 0.8102 - val_accuracy: 0.6657\n",
            "Epoch 208/300\n",
            "535/535 [==============================] - 1s 2ms/step - loss: 0.7239 - accuracy: 0.6926 - val_loss: 0.8117 - val_accuracy: 0.6633\n",
            "Epoch 209/300\n",
            "535/535 [==============================] - 1s 2ms/step - loss: 0.7239 - accuracy: 0.6903 - val_loss: 0.8110 - val_accuracy: 0.6640\n",
            "Epoch 210/300\n",
            "535/535 [==============================] - 1s 2ms/step - loss: 0.7234 - accuracy: 0.6921 - val_loss: 0.8158 - val_accuracy: 0.6654\n",
            "Epoch 211/300\n",
            "535/535 [==============================] - 1s 2ms/step - loss: 0.7236 - accuracy: 0.6934 - val_loss: 0.8113 - val_accuracy: 0.6647\n",
            "Epoch 212/300\n",
            "535/535 [==============================] - 1s 2ms/step - loss: 0.7235 - accuracy: 0.6927 - val_loss: 0.8102 - val_accuracy: 0.6661\n",
            "Epoch 213/300\n",
            "535/535 [==============================] - 1s 2ms/step - loss: 0.7230 - accuracy: 0.6921 - val_loss: 0.8122 - val_accuracy: 0.6612\n",
            "Epoch 214/300\n",
            "535/535 [==============================] - 1s 2ms/step - loss: 0.7225 - accuracy: 0.6926 - val_loss: 0.8152 - val_accuracy: 0.6617\n",
            "Epoch 215/300\n",
            "535/535 [==============================] - 1s 2ms/step - loss: 0.7230 - accuracy: 0.6925 - val_loss: 0.8116 - val_accuracy: 0.6664\n",
            "Epoch 216/300\n",
            "535/535 [==============================] - 1s 2ms/step - loss: 0.7224 - accuracy: 0.6920 - val_loss: 0.8112 - val_accuracy: 0.6652\n",
            "Epoch 217/300\n",
            "535/535 [==============================] - 1s 2ms/step - loss: 0.7224 - accuracy: 0.6942 - val_loss: 0.8130 - val_accuracy: 0.6638\n",
            "Epoch 218/300\n",
            "535/535 [==============================] - 1s 2ms/step - loss: 0.7226 - accuracy: 0.6913 - val_loss: 0.8129 - val_accuracy: 0.6638\n",
            "Epoch 219/300\n",
            "535/535 [==============================] - 1s 2ms/step - loss: 0.7222 - accuracy: 0.6926 - val_loss: 0.8149 - val_accuracy: 0.6640\n",
            "Epoch 220/300\n",
            "535/535 [==============================] - 1s 2ms/step - loss: 0.7218 - accuracy: 0.6940 - val_loss: 0.8154 - val_accuracy: 0.6617\n",
            "Epoch 221/300\n",
            "535/535 [==============================] - 1s 2ms/step - loss: 0.7215 - accuracy: 0.6933 - val_loss: 0.8162 - val_accuracy: 0.6621\n",
            "Epoch 222/300\n",
            "535/535 [==============================] - 1s 2ms/step - loss: 0.7211 - accuracy: 0.6940 - val_loss: 0.8126 - val_accuracy: 0.6643\n",
            "Epoch 223/300\n",
            "535/535 [==============================] - 1s 2ms/step - loss: 0.7209 - accuracy: 0.6925 - val_loss: 0.8164 - val_accuracy: 0.6645\n",
            "Epoch 224/300\n",
            "535/535 [==============================] - 1s 2ms/step - loss: 0.7209 - accuracy: 0.6955 - val_loss: 0.8120 - val_accuracy: 0.6645\n",
            "Epoch 225/300\n",
            "535/535 [==============================] - 1s 2ms/step - loss: 0.7209 - accuracy: 0.6940 - val_loss: 0.8140 - val_accuracy: 0.6635\n",
            "Epoch 226/300\n",
            "535/535 [==============================] - 1s 2ms/step - loss: 0.7206 - accuracy: 0.6927 - val_loss: 0.8136 - val_accuracy: 0.6645\n",
            "Epoch 227/300\n",
            "535/535 [==============================] - 1s 2ms/step - loss: 0.7204 - accuracy: 0.6940 - val_loss: 0.8142 - val_accuracy: 0.6668\n",
            "Epoch 228/300\n",
            "535/535 [==============================] - 1s 2ms/step - loss: 0.7204 - accuracy: 0.6936 - val_loss: 0.8142 - val_accuracy: 0.6612\n",
            "Epoch 229/300\n",
            "535/535 [==============================] - 1s 2ms/step - loss: 0.7202 - accuracy: 0.6923 - val_loss: 0.8161 - val_accuracy: 0.6631\n",
            "Epoch 230/300\n",
            "535/535 [==============================] - 1s 2ms/step - loss: 0.7199 - accuracy: 0.6943 - val_loss: 0.8161 - val_accuracy: 0.6654\n",
            "Epoch 231/300\n",
            "535/535 [==============================] - 1s 2ms/step - loss: 0.7199 - accuracy: 0.6936 - val_loss: 0.8173 - val_accuracy: 0.6645\n",
            "Epoch 232/300\n",
            "535/535 [==============================] - 1s 2ms/step - loss: 0.7198 - accuracy: 0.6939 - val_loss: 0.8156 - val_accuracy: 0.6645\n",
            "Epoch 233/300\n",
            "535/535 [==============================] - 1s 2ms/step - loss: 0.7199 - accuracy: 0.6945 - val_loss: 0.8160 - val_accuracy: 0.6614\n",
            "Epoch 234/300\n",
            "535/535 [==============================] - 1s 2ms/step - loss: 0.7191 - accuracy: 0.6935 - val_loss: 0.8149 - val_accuracy: 0.6633\n",
            "Epoch 235/300\n",
            "535/535 [==============================] - 1s 2ms/step - loss: 0.7193 - accuracy: 0.6929 - val_loss: 0.8149 - val_accuracy: 0.6654\n",
            "Epoch 236/300\n",
            "535/535 [==============================] - 1s 2ms/step - loss: 0.7189 - accuracy: 0.6936 - val_loss: 0.8157 - val_accuracy: 0.6657\n",
            "Epoch 237/300\n",
            "535/535 [==============================] - 1s 2ms/step - loss: 0.7187 - accuracy: 0.6940 - val_loss: 0.8154 - val_accuracy: 0.6626\n",
            "Epoch 238/300\n",
            "535/535 [==============================] - 1s 2ms/step - loss: 0.7190 - accuracy: 0.6950 - val_loss: 0.8162 - val_accuracy: 0.6645\n",
            "Epoch 239/300\n",
            "535/535 [==============================] - 1s 2ms/step - loss: 0.7188 - accuracy: 0.6948 - val_loss: 0.8159 - val_accuracy: 0.6610\n",
            "Epoch 240/300\n",
            "535/535 [==============================] - 1s 2ms/step - loss: 0.7183 - accuracy: 0.6942 - val_loss: 0.8191 - val_accuracy: 0.6624\n",
            "Epoch 241/300\n",
            "535/535 [==============================] - 1s 2ms/step - loss: 0.7178 - accuracy: 0.6951 - val_loss: 0.8178 - val_accuracy: 0.6640\n",
            "Epoch 242/300\n",
            "535/535 [==============================] - 1s 2ms/step - loss: 0.7181 - accuracy: 0.6944 - val_loss: 0.8184 - val_accuracy: 0.6635\n",
            "Epoch 243/300\n",
            "535/535 [==============================] - 1s 2ms/step - loss: 0.7175 - accuracy: 0.6941 - val_loss: 0.8190 - val_accuracy: 0.6624\n",
            "Epoch 244/300\n",
            "535/535 [==============================] - 1s 2ms/step - loss: 0.7176 - accuracy: 0.6948 - val_loss: 0.8173 - val_accuracy: 0.6631\n",
            "Epoch 245/300\n",
            "535/535 [==============================] - 1s 2ms/step - loss: 0.7175 - accuracy: 0.6943 - val_loss: 0.8179 - val_accuracy: 0.6610\n",
            "Epoch 246/300\n",
            "535/535 [==============================] - 1s 2ms/step - loss: 0.7177 - accuracy: 0.6964 - val_loss: 0.8187 - val_accuracy: 0.6626\n",
            "Epoch 247/300\n",
            "535/535 [==============================] - 1s 2ms/step - loss: 0.7170 - accuracy: 0.6960 - val_loss: 0.8210 - val_accuracy: 0.6610\n",
            "Epoch 248/300\n",
            "535/535 [==============================] - 1s 2ms/step - loss: 0.7166 - accuracy: 0.6966 - val_loss: 0.8189 - val_accuracy: 0.6621\n",
            "Epoch 249/300\n",
            "535/535 [==============================] - 1s 2ms/step - loss: 0.7168 - accuracy: 0.6959 - val_loss: 0.8175 - val_accuracy: 0.6610\n",
            "Epoch 250/300\n",
            "535/535 [==============================] - 1s 2ms/step - loss: 0.7169 - accuracy: 0.6933 - val_loss: 0.8179 - val_accuracy: 0.6624\n",
            "Epoch 251/300\n",
            "535/535 [==============================] - 1s 2ms/step - loss: 0.7161 - accuracy: 0.6950 - val_loss: 0.8191 - val_accuracy: 0.6605\n",
            "Epoch 252/300\n",
            "535/535 [==============================] - 1s 2ms/step - loss: 0.7164 - accuracy: 0.6955 - val_loss: 0.8211 - val_accuracy: 0.6568\n",
            "Epoch 253/300\n",
            "535/535 [==============================] - 1s 2ms/step - loss: 0.7166 - accuracy: 0.6923 - val_loss: 0.8181 - val_accuracy: 0.6633\n",
            "Epoch 254/300\n",
            "535/535 [==============================] - 1s 2ms/step - loss: 0.7159 - accuracy: 0.6945 - val_loss: 0.8188 - val_accuracy: 0.6621\n",
            "Epoch 255/300\n",
            "535/535 [==============================] - 1s 2ms/step - loss: 0.7156 - accuracy: 0.6949 - val_loss: 0.8208 - val_accuracy: 0.6603\n",
            "Epoch 256/300\n",
            "535/535 [==============================] - 1s 2ms/step - loss: 0.7155 - accuracy: 0.6970 - val_loss: 0.8191 - val_accuracy: 0.6605\n",
            "Epoch 257/300\n",
            "535/535 [==============================] - 1s 2ms/step - loss: 0.7156 - accuracy: 0.6963 - val_loss: 0.8205 - val_accuracy: 0.6582\n",
            "Epoch 258/300\n",
            "535/535 [==============================] - 1s 2ms/step - loss: 0.7155 - accuracy: 0.6947 - val_loss: 0.8226 - val_accuracy: 0.6614\n",
            "Epoch 259/300\n",
            "535/535 [==============================] - 1s 2ms/step - loss: 0.7146 - accuracy: 0.6962 - val_loss: 0.8185 - val_accuracy: 0.6624\n",
            "Epoch 260/300\n",
            "535/535 [==============================] - 1s 2ms/step - loss: 0.7153 - accuracy: 0.6948 - val_loss: 0.8199 - val_accuracy: 0.6640\n",
            "Epoch 261/300\n",
            "535/535 [==============================] - 1s 2ms/step - loss: 0.7147 - accuracy: 0.6950 - val_loss: 0.8210 - val_accuracy: 0.6605\n",
            "Epoch 262/300\n",
            "535/535 [==============================] - 1s 2ms/step - loss: 0.7149 - accuracy: 0.6944 - val_loss: 0.8214 - val_accuracy: 0.6593\n",
            "Epoch 263/300\n",
            "535/535 [==============================] - 1s 2ms/step - loss: 0.7149 - accuracy: 0.6969 - val_loss: 0.8193 - val_accuracy: 0.6631\n",
            "Epoch 264/300\n",
            "535/535 [==============================] - 1s 2ms/step - loss: 0.7145 - accuracy: 0.6941 - val_loss: 0.8214 - val_accuracy: 0.6589\n",
            "Epoch 265/300\n",
            "535/535 [==============================] - 1s 2ms/step - loss: 0.7137 - accuracy: 0.6945 - val_loss: 0.8232 - val_accuracy: 0.6661\n",
            "Epoch 266/300\n",
            "535/535 [==============================] - 1s 2ms/step - loss: 0.7137 - accuracy: 0.6964 - val_loss: 0.8258 - val_accuracy: 0.6624\n",
            "Epoch 267/300\n",
            "535/535 [==============================] - 1s 2ms/step - loss: 0.7138 - accuracy: 0.6955 - val_loss: 0.8218 - val_accuracy: 0.6605\n",
            "Epoch 268/300\n",
            "535/535 [==============================] - 1s 2ms/step - loss: 0.7136 - accuracy: 0.6961 - val_loss: 0.8221 - val_accuracy: 0.6621\n",
            "Epoch 269/300\n",
            "535/535 [==============================] - 1s 2ms/step - loss: 0.7137 - accuracy: 0.6946 - val_loss: 0.8237 - val_accuracy: 0.6621\n",
            "Epoch 270/300\n",
            "535/535 [==============================] - 1s 2ms/step - loss: 0.7137 - accuracy: 0.6958 - val_loss: 0.8231 - val_accuracy: 0.6610\n",
            "Epoch 271/300\n",
            "535/535 [==============================] - 1s 2ms/step - loss: 0.7137 - accuracy: 0.6958 - val_loss: 0.8214 - val_accuracy: 0.6572\n",
            "Epoch 272/300\n",
            "535/535 [==============================] - 1s 2ms/step - loss: 0.7130 - accuracy: 0.6958 - val_loss: 0.8240 - val_accuracy: 0.6586\n",
            "Epoch 273/300\n",
            "535/535 [==============================] - 1s 2ms/step - loss: 0.7131 - accuracy: 0.6944 - val_loss: 0.8221 - val_accuracy: 0.6579\n",
            "Epoch 274/300\n",
            "535/535 [==============================] - 1s 2ms/step - loss: 0.7126 - accuracy: 0.6962 - val_loss: 0.8239 - val_accuracy: 0.6628\n",
            "Epoch 275/300\n",
            "535/535 [==============================] - 1s 2ms/step - loss: 0.7126 - accuracy: 0.6969 - val_loss: 0.8262 - val_accuracy: 0.6589\n",
            "Epoch 276/300\n",
            "535/535 [==============================] - 1s 2ms/step - loss: 0.7126 - accuracy: 0.6951 - val_loss: 0.8260 - val_accuracy: 0.6540\n",
            "Epoch 277/300\n",
            "535/535 [==============================] - 1s 2ms/step - loss: 0.7123 - accuracy: 0.6958 - val_loss: 0.8242 - val_accuracy: 0.6605\n",
            "Epoch 278/300\n",
            "535/535 [==============================] - 1s 2ms/step - loss: 0.7124 - accuracy: 0.6960 - val_loss: 0.8223 - val_accuracy: 0.6605\n",
            "Epoch 279/300\n",
            "535/535 [==============================] - 1s 2ms/step - loss: 0.7120 - accuracy: 0.6937 - val_loss: 0.8212 - val_accuracy: 0.6607\n",
            "Epoch 280/300\n",
            "535/535 [==============================] - 1s 2ms/step - loss: 0.7117 - accuracy: 0.6953 - val_loss: 0.8232 - val_accuracy: 0.6614\n",
            "Epoch 281/300\n",
            "535/535 [==============================] - 1s 2ms/step - loss: 0.7117 - accuracy: 0.6952 - val_loss: 0.8240 - val_accuracy: 0.6591\n",
            "Epoch 282/300\n",
            "535/535 [==============================] - 1s 2ms/step - loss: 0.7117 - accuracy: 0.6957 - val_loss: 0.8265 - val_accuracy: 0.6549\n",
            "Epoch 283/300\n",
            "535/535 [==============================] - 1s 2ms/step - loss: 0.7113 - accuracy: 0.6954 - val_loss: 0.8253 - val_accuracy: 0.6619\n",
            "Epoch 284/300\n",
            "535/535 [==============================] - 1s 2ms/step - loss: 0.7110 - accuracy: 0.6958 - val_loss: 0.8256 - val_accuracy: 0.6603\n",
            "Epoch 285/300\n",
            "535/535 [==============================] - 1s 2ms/step - loss: 0.7115 - accuracy: 0.6972 - val_loss: 0.8228 - val_accuracy: 0.6607\n",
            "Epoch 286/300\n",
            "535/535 [==============================] - 1s 2ms/step - loss: 0.7106 - accuracy: 0.6976 - val_loss: 0.8238 - val_accuracy: 0.6575\n",
            "Epoch 287/300\n",
            "535/535 [==============================] - 1s 2ms/step - loss: 0.7108 - accuracy: 0.6967 - val_loss: 0.8246 - val_accuracy: 0.6596\n",
            "Epoch 288/300\n",
            "535/535 [==============================] - 1s 2ms/step - loss: 0.7102 - accuracy: 0.6971 - val_loss: 0.8262 - val_accuracy: 0.6621\n",
            "Epoch 289/300\n",
            "535/535 [==============================] - 1s 2ms/step - loss: 0.7102 - accuracy: 0.6962 - val_loss: 0.8256 - val_accuracy: 0.6605\n",
            "Epoch 290/300\n",
            "535/535 [==============================] - 1s 2ms/step - loss: 0.7096 - accuracy: 0.6966 - val_loss: 0.8253 - val_accuracy: 0.6586\n",
            "Epoch 291/300\n",
            "535/535 [==============================] - 1s 2ms/step - loss: 0.7100 - accuracy: 0.6958 - val_loss: 0.8269 - val_accuracy: 0.6596\n",
            "Epoch 292/300\n",
            "535/535 [==============================] - 1s 2ms/step - loss: 0.7097 - accuracy: 0.6976 - val_loss: 0.8274 - val_accuracy: 0.6624\n",
            "Epoch 293/300\n",
            "535/535 [==============================] - 1s 2ms/step - loss: 0.7099 - accuracy: 0.6964 - val_loss: 0.8273 - val_accuracy: 0.6547\n",
            "Epoch 294/300\n",
            "535/535 [==============================] - 1s 2ms/step - loss: 0.7093 - accuracy: 0.6965 - val_loss: 0.8279 - val_accuracy: 0.6605\n",
            "Epoch 295/300\n",
            "535/535 [==============================] - 1s 2ms/step - loss: 0.7095 - accuracy: 0.6982 - val_loss: 0.8273 - val_accuracy: 0.6598\n",
            "Epoch 296/300\n",
            "535/535 [==============================] - 1s 2ms/step - loss: 0.7097 - accuracy: 0.6969 - val_loss: 0.8263 - val_accuracy: 0.6577\n",
            "Epoch 297/300\n",
            "535/535 [==============================] - 1s 2ms/step - loss: 0.7098 - accuracy: 0.6953 - val_loss: 0.8261 - val_accuracy: 0.6568\n",
            "Epoch 298/300\n",
            "535/535 [==============================] - 1s 2ms/step - loss: 0.7089 - accuracy: 0.6958 - val_loss: 0.8286 - val_accuracy: 0.6591\n",
            "Epoch 299/300\n",
            "535/535 [==============================] - 1s 2ms/step - loss: 0.7088 - accuracy: 0.6957 - val_loss: 0.8264 - val_accuracy: 0.6579\n",
            "Epoch 300/300\n",
            "535/535 [==============================] - 1s 2ms/step - loss: 0.7084 - accuracy: 0.6977 - val_loss: 0.8270 - val_accuracy: 0.6596\n"
          ]
        }
      ]
    },
    {
      "cell_type": "code",
      "metadata": {
        "id": "1rqXP3MDajZC",
        "colab": {
          "base_uri": "https://localhost:8080/",
          "height": 282
        },
        "outputId": "6b195fff-bef7-46e3-8774-185d7e7f9e89"
      },
      "source": [
        "start = 0\n",
        "plt.plot(hist.history['loss'][start:])\n",
        "plt.plot(hist.history['val_loss'][start:])\n",
        "plt.legend(['Train loss', 'Validation loss'])"
      ],
      "execution_count": null,
      "outputs": [
        {
          "output_type": "execute_result",
          "data": {
            "text/plain": [
              "<matplotlib.legend.Legend at 0x7f4f350a2fd0>"
            ]
          },
          "metadata": {},
          "execution_count": 59
        },
        {
          "output_type": "display_data",
          "data": {
            "image/png": "[encoded data removed]",
            "text/plain": [
              "<Figure size 432x288 with 1 Axes>"
            ]
          },
          "metadata": {
            "needs_background": "light"
          }
        }
      ]
    },
    {
      "cell_type": "code",
      "metadata": {
        "id": "nvhBv4ICajZE",
        "colab": {
          "base_uri": "https://localhost:8080/"
        },
        "outputId": "fde0f70a-9eb0-4fed-ab92-67ee47d3bdf2"
      },
      "source": [
        "score = model.evaluate(X_test, to_categorical(y_test), verbose=0)\n",
        "score "
      ],
      "execution_count": null,
      "outputs": [
        {
          "output_type": "execute_result",
          "data": {
            "text/plain": [
              "[0.8383971452713013, 0.6584362387657166]"
            ]
          },
          "metadata": {},
          "execution_count": 60
        }
      ]
    },
    {
      "cell_type": "markdown",
      "metadata": {
        "id": "d74GgRZwajZF"
      },
      "source": [
        "Качество нашей модели на валидационных данных достигает пика после определенного количества эпох, а затем начинает снижаться. Это происходит из-за того, что модель начинает __переобучаться.__ Очень важно знать способы как можно предотвратить это. Переобученая модель просто запоминает выборку. Нам бы хотелось, чтобы она обобщала закономерности и адекватно вела себа на новых данных.\n",
        "\n",
        "Обратным случаем переобучения является __недообучение.__ Оно возникает, когда все еще есть возможность улучшить показатели модели на проверочном наборе данных. Недообучение может произойти по разным причинам: например, если модель недостаточно сильная, или слишком сложная, или просто недостаточно тренировалась на данных. В любом случае это будет означать, что не были выучены основные паттерны из проверочного сета. Нам нужно найти золотую середину.\n",
        "\n",
        "Чтобы избежать переобучения, наиболее оптимальным решением будет использовать больше тренировочных данных. Модели, обученные на большем количестве данных, естественным образом обобщают их лучше. Если возможность раздобыть ещё данных исчерпана, можно использовать методы регуляризации. Они ограничивают количество и тип инофрмации, которые модель может хранить в себе. Если нейросеть может запомнить только небольшое количество паттернов, то тогда процесс оптимизации заставит ее сфокусироваться на самых важных, наиболее заметных шаблонах, которые будут иметь более высокий шанс обобщения. __Попробуем дать переобучению бой!__"
      ]
    },
    {
      "cell_type": "markdown",
      "metadata": {
        "id": "BnkdPLnzajZG"
      },
      "source": [
        "## 3. Бои с переобучением\n",
        "\n",
        "Существует несколько способов регуляризации нейронных сетей. \n",
        "\n",
        "* EarlyStopping\n",
        "* $l_1$ и $l_2$ регуляризация \n",
        "* Dropout\n",
        "\n",
        "Попробуем всего по немногу. \n",
        "\n",
        "### 3.1 Early stopping\n",
        "Немного подробнее поговорим про __колбэки,__ которые закидываются в метод `fit` отдельным аргументом. Колбэки - это специальные функции, которые выполняются в процессе обучения на каждой эпохе и что-то делают.  \n",
        "\n",
        "\n",
        "Одни сети сходятся за 5 эпох, другие не сходятся и за тысячу. Тренировать сетку в течение 1000 эпох, если она сходится за 5 - это не очень хорошая идея, так как качество на валидации начнёт падать и модель переобучится. Давайте попробуем останавливать обучение модели, как только оценка качества модели на валидации падает в течение нескольких эпох."
      ]
    },
    {
      "cell_type": "code",
      "metadata": {
        "id": "DOk7DoYdajZG",
        "colab": {
          "base_uri": "https://localhost:8080/"
        },
        "outputId": "5fa66a7a-1cb2-4f36-a7c8-9dfe102bdde9"
      },
      "source": [
        "# Подгружаем раннюю остановку\n",
        "from tensorflow.keras.callbacks import EarlyStopping\n",
        "\n",
        "# Прикажем модели останавливать обучение, когда качество на валидации не будет улучшаться в течение 50 эпох\n",
        "# Параметр patience определяет количество эпох, которые можно пропустить без улучшений\n",
        "early_stopping_monitor = EarlyStopping(patience = 10)\n",
        "\n",
        "model = get_new_model( ) # Сбросим старые веса \n",
        "\n",
        "# Функция для контроля остановки добавляется в параметр callbacks\n",
        "hist_baseline = model.fit(X_train, to_categorical(y_train), validation_split=0.2, epochs=1000, \n",
        "                  verbose=1, callbacks = [early_stopping_monitor])"
      ],
      "execution_count": null,
      "outputs": [
        {
          "output_type": "stream",
          "name": "stdout",
          "text": [
            "Epoch 1/1000\n",
            "535/535 [==============================] - 1s 2ms/step - loss: 1.1305 - accuracy: 0.5108 - val_loss: 0.9700 - val_accuracy: 0.6121\n",
            "Epoch 2/1000\n",
            "535/535 [==============================] - 1s 2ms/step - loss: 0.9289 - accuracy: 0.6217 - val_loss: 0.8869 - val_accuracy: 0.6371\n",
            "Epoch 3/1000\n",
            "535/535 [==============================] - 1s 2ms/step - loss: 0.8884 - accuracy: 0.6381 - val_loss: 0.8726 - val_accuracy: 0.6451\n",
            "Epoch 4/1000\n",
            "535/535 [==============================] - 1s 2ms/step - loss: 0.8801 - accuracy: 0.6394 - val_loss: 0.8684 - val_accuracy: 0.6385\n",
            "Epoch 5/1000\n",
            "535/535 [==============================] - 1s 2ms/step - loss: 0.8744 - accuracy: 0.6414 - val_loss: 0.8614 - val_accuracy: 0.6460\n",
            "Epoch 6/1000\n",
            "535/535 [==============================] - 1s 2ms/step - loss: 0.8694 - accuracy: 0.6423 - val_loss: 0.8577 - val_accuracy: 0.6446\n",
            "Epoch 7/1000\n",
            "535/535 [==============================] - 1s 2ms/step - loss: 0.8645 - accuracy: 0.6432 - val_loss: 0.8538 - val_accuracy: 0.6451\n",
            "Epoch 8/1000\n",
            "535/535 [==============================] - 1s 2ms/step - loss: 0.8601 - accuracy: 0.6417 - val_loss: 0.8500 - val_accuracy: 0.6413\n",
            "Epoch 9/1000\n",
            "535/535 [==============================] - 1s 2ms/step - loss: 0.8569 - accuracy: 0.6429 - val_loss: 0.8475 - val_accuracy: 0.6430\n",
            "Epoch 10/1000\n",
            "535/535 [==============================] - 1s 2ms/step - loss: 0.8533 - accuracy: 0.6423 - val_loss: 0.8431 - val_accuracy: 0.6439\n",
            "Epoch 11/1000\n",
            "535/535 [==============================] - 1s 2ms/step - loss: 0.8496 - accuracy: 0.6440 - val_loss: 0.8427 - val_accuracy: 0.6441\n",
            "Epoch 12/1000\n",
            "535/535 [==============================] - 1s 2ms/step - loss: 0.8471 - accuracy: 0.6446 - val_loss: 0.8390 - val_accuracy: 0.6439\n",
            "Epoch 13/1000\n",
            "535/535 [==============================] - 1s 2ms/step - loss: 0.8445 - accuracy: 0.6455 - val_loss: 0.8362 - val_accuracy: 0.6462\n",
            "Epoch 14/1000\n",
            "535/535 [==============================] - 1s 2ms/step - loss: 0.8414 - accuracy: 0.6463 - val_loss: 0.8338 - val_accuracy: 0.6451\n",
            "Epoch 15/1000\n",
            "535/535 [==============================] - 1s 2ms/step - loss: 0.8387 - accuracy: 0.6488 - val_loss: 0.8327 - val_accuracy: 0.6509\n",
            "Epoch 16/1000\n",
            "535/535 [==============================] - 1s 2ms/step - loss: 0.8356 - accuracy: 0.6490 - val_loss: 0.8302 - val_accuracy: 0.6479\n",
            "Epoch 17/1000\n",
            "535/535 [==============================] - 1s 2ms/step - loss: 0.8330 - accuracy: 0.6516 - val_loss: 0.8281 - val_accuracy: 0.6462\n",
            "Epoch 18/1000\n",
            "535/535 [==============================] - 1s 2ms/step - loss: 0.8305 - accuracy: 0.6511 - val_loss: 0.8255 - val_accuracy: 0.6526\n",
            "Epoch 19/1000\n",
            "535/535 [==============================] - 1s 2ms/step - loss: 0.8280 - accuracy: 0.6535 - val_loss: 0.8253 - val_accuracy: 0.6568\n",
            "Epoch 20/1000\n",
            "535/535 [==============================] - 1s 2ms/step - loss: 0.8256 - accuracy: 0.6556 - val_loss: 0.8225 - val_accuracy: 0.6572\n",
            "Epoch 21/1000\n",
            "535/535 [==============================] - 1s 2ms/step - loss: 0.8228 - accuracy: 0.6563 - val_loss: 0.8231 - val_accuracy: 0.6561\n",
            "Epoch 22/1000\n",
            "535/535 [==============================] - 1s 2ms/step - loss: 0.8203 - accuracy: 0.6573 - val_loss: 0.8195 - val_accuracy: 0.6579\n",
            "Epoch 23/1000\n",
            "535/535 [==============================] - 1s 2ms/step - loss: 0.8182 - accuracy: 0.6590 - val_loss: 0.8180 - val_accuracy: 0.6598\n",
            "Epoch 24/1000\n",
            "535/535 [==============================] - 1s 2ms/step - loss: 0.8155 - accuracy: 0.6592 - val_loss: 0.8152 - val_accuracy: 0.6617\n",
            "Epoch 25/1000\n",
            "535/535 [==============================] - 1s 2ms/step - loss: 0.8131 - accuracy: 0.6593 - val_loss: 0.8154 - val_accuracy: 0.6607\n",
            "Epoch 26/1000\n",
            "535/535 [==============================] - 1s 2ms/step - loss: 0.8116 - accuracy: 0.6605 - val_loss: 0.8128 - val_accuracy: 0.6621\n",
            "Epoch 27/1000\n",
            "535/535 [==============================] - 1s 2ms/step - loss: 0.8092 - accuracy: 0.6612 - val_loss: 0.8145 - val_accuracy: 0.6572\n",
            "Epoch 28/1000\n",
            "535/535 [==============================] - 1s 2ms/step - loss: 0.8071 - accuracy: 0.6613 - val_loss: 0.8101 - val_accuracy: 0.6621\n",
            "Epoch 29/1000\n",
            "535/535 [==============================] - 1s 2ms/step - loss: 0.8059 - accuracy: 0.6630 - val_loss: 0.8105 - val_accuracy: 0.6593\n",
            "Epoch 30/1000\n",
            "535/535 [==============================] - 1s 2ms/step - loss: 0.8040 - accuracy: 0.6636 - val_loss: 0.8112 - val_accuracy: 0.6614\n",
            "Epoch 31/1000\n",
            "535/535 [==============================] - 1s 2ms/step - loss: 0.8020 - accuracy: 0.6639 - val_loss: 0.8080 - val_accuracy: 0.6635\n",
            "Epoch 32/1000\n",
            "535/535 [==============================] - 1s 2ms/step - loss: 0.8003 - accuracy: 0.6639 - val_loss: 0.8069 - val_accuracy: 0.6617\n",
            "Epoch 33/1000\n",
            "535/535 [==============================] - 1s 2ms/step - loss: 0.7986 - accuracy: 0.6651 - val_loss: 0.8073 - val_accuracy: 0.6617\n",
            "Epoch 34/1000\n",
            "535/535 [==============================] - 1s 2ms/step - loss: 0.7972 - accuracy: 0.6671 - val_loss: 0.8055 - val_accuracy: 0.6643\n",
            "Epoch 35/1000\n",
            "535/535 [==============================] - 1s 2ms/step - loss: 0.7955 - accuracy: 0.6675 - val_loss: 0.8045 - val_accuracy: 0.6638\n",
            "Epoch 36/1000\n",
            "535/535 [==============================] - 1s 2ms/step - loss: 0.7944 - accuracy: 0.6660 - val_loss: 0.8033 - val_accuracy: 0.6647\n",
            "Epoch 37/1000\n",
            "535/535 [==============================] - 1s 2ms/step - loss: 0.7924 - accuracy: 0.6671 - val_loss: 0.8035 - val_accuracy: 0.6671\n",
            "Epoch 38/1000\n",
            "535/535 [==============================] - 1s 2ms/step - loss: 0.7910 - accuracy: 0.6661 - val_loss: 0.8036 - val_accuracy: 0.6633\n",
            "Epoch 39/1000\n",
            "535/535 [==============================] - 1s 2ms/step - loss: 0.7900 - accuracy: 0.6699 - val_loss: 0.8025 - val_accuracy: 0.6661\n",
            "Epoch 40/1000\n",
            "535/535 [==============================] - 1s 2ms/step - loss: 0.7884 - accuracy: 0.6703 - val_loss: 0.8012 - val_accuracy: 0.6635\n",
            "Epoch 41/1000\n",
            "535/535 [==============================] - 1s 2ms/step - loss: 0.7877 - accuracy: 0.6682 - val_loss: 0.8005 - val_accuracy: 0.6647\n",
            "Epoch 42/1000\n",
            "535/535 [==============================] - 1s 2ms/step - loss: 0.7863 - accuracy: 0.6694 - val_loss: 0.8050 - val_accuracy: 0.6593\n",
            "Epoch 43/1000\n",
            "535/535 [==============================] - 1s 2ms/step - loss: 0.7855 - accuracy: 0.6717 - val_loss: 0.8015 - val_accuracy: 0.6647\n",
            "Epoch 44/1000\n",
            "535/535 [==============================] - 1s 2ms/step - loss: 0.7841 - accuracy: 0.6716 - val_loss: 0.8028 - val_accuracy: 0.6638\n",
            "Epoch 45/1000\n",
            "535/535 [==============================] - 1s 2ms/step - loss: 0.7830 - accuracy: 0.6729 - val_loss: 0.7999 - val_accuracy: 0.6603\n",
            "Epoch 46/1000\n",
            "535/535 [==============================] - 1s 2ms/step - loss: 0.7826 - accuracy: 0.6720 - val_loss: 0.8007 - val_accuracy: 0.6661\n",
            "Epoch 47/1000\n",
            "535/535 [==============================] - 1s 2ms/step - loss: 0.7811 - accuracy: 0.6737 - val_loss: 0.8012 - val_accuracy: 0.6619\n",
            "Epoch 48/1000\n",
            "535/535 [==============================] - 1s 2ms/step - loss: 0.7802 - accuracy: 0.6722 - val_loss: 0.8008 - val_accuracy: 0.6603\n",
            "Epoch 49/1000\n",
            "535/535 [==============================] - 1s 2ms/step - loss: 0.7790 - accuracy: 0.6737 - val_loss: 0.7990 - val_accuracy: 0.6631\n",
            "Epoch 50/1000\n",
            "535/535 [==============================] - 1s 2ms/step - loss: 0.7783 - accuracy: 0.6749 - val_loss: 0.7990 - val_accuracy: 0.6654\n",
            "Epoch 51/1000\n",
            "535/535 [==============================] - 1s 2ms/step - loss: 0.7773 - accuracy: 0.6742 - val_loss: 0.8009 - val_accuracy: 0.6654\n",
            "Epoch 52/1000\n",
            "535/535 [==============================] - 1s 2ms/step - loss: 0.7763 - accuracy: 0.6744 - val_loss: 0.7974 - val_accuracy: 0.6640\n",
            "Epoch 53/1000\n",
            "535/535 [==============================] - 1s 2ms/step - loss: 0.7754 - accuracy: 0.6763 - val_loss: 0.8013 - val_accuracy: 0.6624\n",
            "Epoch 54/1000\n",
            "535/535 [==============================] - 1s 2ms/step - loss: 0.7745 - accuracy: 0.6763 - val_loss: 0.7982 - val_accuracy: 0.6633\n",
            "Epoch 55/1000\n",
            "535/535 [==============================] - 1s 2ms/step - loss: 0.7737 - accuracy: 0.6757 - val_loss: 0.7998 - val_accuracy: 0.6664\n",
            "Epoch 56/1000\n",
            "535/535 [==============================] - 1s 2ms/step - loss: 0.7737 - accuracy: 0.6750 - val_loss: 0.7979 - val_accuracy: 0.6659\n",
            "Epoch 57/1000\n",
            "535/535 [==============================] - 1s 2ms/step - loss: 0.7723 - accuracy: 0.6769 - val_loss: 0.7989 - val_accuracy: 0.6605\n",
            "Epoch 58/1000\n",
            "535/535 [==============================] - 1s 2ms/step - loss: 0.7715 - accuracy: 0.6772 - val_loss: 0.7977 - val_accuracy: 0.6612\n",
            "Epoch 59/1000\n",
            "535/535 [==============================] - 1s 2ms/step - loss: 0.7707 - accuracy: 0.6793 - val_loss: 0.7991 - val_accuracy: 0.6645\n",
            "Epoch 60/1000\n",
            "535/535 [==============================] - 1s 2ms/step - loss: 0.7702 - accuracy: 0.6765 - val_loss: 0.7971 - val_accuracy: 0.6631\n",
            "Epoch 61/1000\n",
            "535/535 [==============================] - 1s 2ms/step - loss: 0.7695 - accuracy: 0.6803 - val_loss: 0.7966 - val_accuracy: 0.6614\n",
            "Epoch 62/1000\n",
            "535/535 [==============================] - 1s 2ms/step - loss: 0.7683 - accuracy: 0.6798 - val_loss: 0.7994 - val_accuracy: 0.6607\n",
            "Epoch 63/1000\n",
            "535/535 [==============================] - 1s 2ms/step - loss: 0.7679 - accuracy: 0.6798 - val_loss: 0.7976 - val_accuracy: 0.6579\n",
            "Epoch 64/1000\n",
            "535/535 [==============================] - 1s 2ms/step - loss: 0.7679 - accuracy: 0.6781 - val_loss: 0.7952 - val_accuracy: 0.6626\n",
            "Epoch 65/1000\n",
            "535/535 [==============================] - 1s 2ms/step - loss: 0.7666 - accuracy: 0.6801 - val_loss: 0.7979 - val_accuracy: 0.6621\n",
            "Epoch 66/1000\n",
            "535/535 [==============================] - 1s 2ms/step - loss: 0.7655 - accuracy: 0.6788 - val_loss: 0.7948 - val_accuracy: 0.6617\n",
            "Epoch 67/1000\n",
            "535/535 [==============================] - 1s 2ms/step - loss: 0.7656 - accuracy: 0.6820 - val_loss: 0.7956 - val_accuracy: 0.6633\n",
            "Epoch 68/1000\n",
            "535/535 [==============================] - 1s 2ms/step - loss: 0.7648 - accuracy: 0.6803 - val_loss: 0.7965 - val_accuracy: 0.6607\n",
            "Epoch 69/1000\n",
            "535/535 [==============================] - 1s 2ms/step - loss: 0.7644 - accuracy: 0.6799 - val_loss: 0.7961 - val_accuracy: 0.6605\n",
            "Epoch 70/1000\n",
            "535/535 [==============================] - 1s 2ms/step - loss: 0.7640 - accuracy: 0.6796 - val_loss: 0.7956 - val_accuracy: 0.6631\n",
            "Epoch 71/1000\n",
            "535/535 [==============================] - 1s 2ms/step - loss: 0.7636 - accuracy: 0.6788 - val_loss: 0.7957 - val_accuracy: 0.6614\n",
            "Epoch 72/1000\n",
            "535/535 [==============================] - 1s 2ms/step - loss: 0.7627 - accuracy: 0.6796 - val_loss: 0.7970 - val_accuracy: 0.6633\n",
            "Epoch 73/1000\n",
            "535/535 [==============================] - 1s 2ms/step - loss: 0.7615 - accuracy: 0.6818 - val_loss: 0.7976 - val_accuracy: 0.6633\n",
            "Epoch 74/1000\n",
            "535/535 [==============================] - 1s 2ms/step - loss: 0.7615 - accuracy: 0.6806 - val_loss: 0.8005 - val_accuracy: 0.6628\n",
            "Epoch 75/1000\n",
            "535/535 [==============================] - 1s 2ms/step - loss: 0.7613 - accuracy: 0.6804 - val_loss: 0.7974 - val_accuracy: 0.6617\n",
            "Epoch 76/1000\n",
            "535/535 [==============================] - 1s 2ms/step - loss: 0.7608 - accuracy: 0.6813 - val_loss: 0.7984 - val_accuracy: 0.6640\n"
          ]
        }
      ]
    },
    {
      "cell_type": "code",
      "metadata": {
        "id": "mazgyqjSajZI",
        "colab": {
          "base_uri": "https://localhost:8080/",
          "height": 282
        },
        "outputId": "22d569f7-305b-4335-9a18-1ff94c976df9"
      },
      "source": [
        "start = 0\n",
        "plt.plot(hist_baseline.history['loss'][start:])\n",
        "plt.plot(hist_baseline.history['val_loss'][start:])\n",
        "plt.legend(['Train loss', 'Validation loss'])"
      ],
      "execution_count": null,
      "outputs": [
        {
          "output_type": "execute_result",
          "data": {
            "text/plain": [
              "<matplotlib.legend.Legend at 0x7f4f2d4e69d0>"
            ]
          },
          "metadata": {},
          "execution_count": 64
        },
        {
          "output_type": "display_data",
          "data": {
            "image/png": "[encoded data removed]",
            "text/plain": [
              "<Figure size 432x288 with 1 Axes>"
            ]
          },
          "metadata": {
            "needs_background": "light"
          }
        }
      ]
    },
    {
      "cell_type": "code",
      "metadata": {
        "id": "WKsWInVXajZI",
        "colab": {
          "base_uri": "https://localhost:8080/"
        },
        "outputId": "2317ed8e-c39f-4b60-af02-0cd6814f572e"
      },
      "source": [
        "score = model.evaluate(X_test, to_categorical(y_test), verbose=1)\n",
        "score "
      ],
      "execution_count": null,
      "outputs": [
        {
          "output_type": "stream",
          "name": "stdout",
          "text": [
            "168/168 [==============================] - 0s 1ms/step - loss: 0.8129 - accuracy: 0.6642\n"
          ]
        },
        {
          "output_type": "execute_result",
          "data": {
            "text/plain": [
              "[0.8128666281700134, 0.6642349362373352]"
            ]
          },
          "metadata": {},
          "execution_count": 65
        }
      ]
    },
    {
      "cell_type": "code",
      "metadata": {
        "id": "xnic4UcNajZJ"
      },
      "source": [
        "def plot_history(histories, key='loss', start=0):\n",
        "    plt.figure(figsize=(16,10))\n",
        "\n",
        "    for name, history in histories:\n",
        "        val = plt.plot(history.epoch[start:], history.history['val_'+key][start:],\n",
        "                       '--', label=name.title()+' Val')\n",
        "        plt.plot(history.epoch[start:], history.history[key][start:], color=val[0].get_color(),\n",
        "                 label=name.title()+' Train')\n",
        "\n",
        "    plt.xlabel('Epochs')\n",
        "    plt.ylabel(key.replace('_',' ').title())\n",
        "    plt.legend()\n",
        "\n",
        "    plt.xlim([start, max(history.epoch)])\n",
        "    pass"
      ],
      "execution_count": null,
      "outputs": []
    },
    {
      "cell_type": "code",
      "metadata": {
        "id": "XOANz_k5ajZK",
        "colab": {
          "base_uri": "https://localhost:8080/",
          "height": 609
        },
        "outputId": "ecfdaddc-ea92-466c-9741-ca1e1321ce56"
      },
      "source": [
        "# Пример применения такой функции (через запятую можно перечислять имена моделей и их hist): \n",
        "plot_history([('baseline', hist_baseline), ],\n",
        "             start=30 )"
      ],
      "execution_count": null,
      "outputs": [
        {
          "output_type": "display_data",
          "data": {
            "image/png": "[encoded data removed]",
            "text/plain": [
              "<Figure size 1152x720 with 1 Axes>"
            ]
          },
          "metadata": {
            "needs_background": "light"
          }
        }
      ]
    },
    {
      "cell_type": "markdown",
      "metadata": {
        "id": "xKmddDCLajZK"
      },
      "source": [
        "### 3.2  Dropout \n",
        "\n",
        "Метод ранней остановки позволял нам никак не видоизменять архитектуру нейросетки. Мы просто закидывали в процедуру, отвечающую за обучение, дополнительные характеристики. Но этого мало, Давайте попробуем поменять архитекутуру нашей модели. Например, использовать новую модную штуку, придуманную в 2015 году с гордым именем Dropout. \n",
        "\n",
        "![](https://hsto.org/web/dd8/171/16f/dd817116fc2348e78272577153e31d2d.jpeg)\n",
        "\n"
      ]
    },
    {
      "cell_type": "code",
      "metadata": {
        "id": "6-7BlZC3ajZL"
      },
      "source": [
        "early_stopping_monitor = EarlyStopping(patience = 10)\n",
        "model_dropout = Sequential( )\n",
        "\n",
        "# Первый слой \n",
        "model_dropout.add(L.Dense(25, input_dim = X_train.shape[1], kernel_initializer='random_normal'))\n",
        "model_dropout.add(L.Dropout(0.5)) # слой дропаута\n",
        "model_dropout.add(L.Activation('sigmoid'))\n",
        "\n",
        "# Второй слой \n",
        "model_dropout.add(L.Dense(25, kernel_initializer='random_normal'))\n",
        "model_dropout.add(L.Dropout(0.5))\n",
        "model_dropout.add(L.Activation('sigmoid'))\n",
        "\n",
        "\n",
        "# Выходной слой \n",
        "model_dropout.add(L.Dense(4, activation='softmax', kernel_initializer = 'random_normal'))\n",
        "\n",
        "# Собираем модель \n",
        "model_dropout.compile(loss = 'categorical_crossentropy', metrics=[\"accuracy\"], optimizer=opt.Adam(lr=1e-3))"
      ],
      "execution_count": null,
      "outputs": []
    },
    {
      "cell_type": "code",
      "metadata": {
        "id": "97NPZA19ajZL",
        "colab": {
          "base_uri": "https://localhost:8080/"
        },
        "outputId": "ed6ccff3-73c5-46a6-a23e-ee0696a670fe"
      },
      "source": [
        "hist_dp_1 = model_dropout.fit(X_train, to_categorical(y_train), \n",
        "                         validation_split=0.2, epochs=100, verbose=1, callbacks = [early_stopping_monitor])"
      ],
      "execution_count": null,
      "outputs": [
        {
          "output_type": "stream",
          "name": "stdout",
          "text": [
            "Epoch 1/100\n",
            "535/535 [==============================] - 2s 2ms/step - loss: 1.1862 - accuracy: 0.4939 - val_loss: 1.0185 - val_accuracy: 0.6030\n",
            "Epoch 2/100\n",
            "535/535 [==============================] - 1s 2ms/step - loss: 1.0354 - accuracy: 0.6058 - val_loss: 0.9774 - val_accuracy: 0.6123\n",
            "Epoch 3/100\n",
            "535/535 [==============================] - 1s 2ms/step - loss: 0.9927 - accuracy: 0.6055 - val_loss: 0.9495 - val_accuracy: 0.6184\n",
            "Epoch 4/100\n",
            "535/535 [==============================] - 1s 2ms/step - loss: 0.9600 - accuracy: 0.6101 - val_loss: 0.9155 - val_accuracy: 0.6313\n",
            "Epoch 5/100\n",
            "535/535 [==============================] - 1s 2ms/step - loss: 0.9403 - accuracy: 0.6175 - val_loss: 0.9138 - val_accuracy: 0.6402\n",
            "Epoch 6/100\n",
            "535/535 [==============================] - 1s 2ms/step - loss: 0.9272 - accuracy: 0.6259 - val_loss: 0.9106 - val_accuracy: 0.6437\n",
            "Epoch 7/100\n",
            "535/535 [==============================] - 1s 2ms/step - loss: 0.9225 - accuracy: 0.6274 - val_loss: 0.9165 - val_accuracy: 0.6399\n",
            "Epoch 8/100\n",
            "535/535 [==============================] - 1s 2ms/step - loss: 0.9222 - accuracy: 0.6266 - val_loss: 0.9215 - val_accuracy: 0.6381\n",
            "Epoch 9/100\n",
            "535/535 [==============================] - 1s 2ms/step - loss: 0.9181 - accuracy: 0.6286 - val_loss: 0.9187 - val_accuracy: 0.6390\n",
            "Epoch 10/100\n",
            "535/535 [==============================] - 1s 2ms/step - loss: 0.9178 - accuracy: 0.6280 - val_loss: 0.9337 - val_accuracy: 0.6406\n",
            "Epoch 11/100\n",
            "535/535 [==============================] - 1s 2ms/step - loss: 0.9159 - accuracy: 0.6264 - val_loss: 0.9308 - val_accuracy: 0.6423\n",
            "Epoch 12/100\n",
            "535/535 [==============================] - 1s 2ms/step - loss: 0.9116 - accuracy: 0.6261 - val_loss: 0.9290 - val_accuracy: 0.6362\n",
            "Epoch 13/100\n",
            "535/535 [==============================] - 1s 2ms/step - loss: 0.9133 - accuracy: 0.6300 - val_loss: 0.9354 - val_accuracy: 0.6369\n",
            "Epoch 14/100\n",
            "535/535 [==============================] - 1s 2ms/step - loss: 0.9107 - accuracy: 0.6297 - val_loss: 0.9263 - val_accuracy: 0.6346\n",
            "Epoch 15/100\n",
            "535/535 [==============================] - 1s 2ms/step - loss: 0.9118 - accuracy: 0.6273 - val_loss: 0.9270 - val_accuracy: 0.6325\n",
            "Epoch 16/100\n",
            "535/535 [==============================] - 1s 2ms/step - loss: 0.9114 - accuracy: 0.6271 - val_loss: 0.9315 - val_accuracy: 0.6320\n"
          ]
        }
      ]
    },
    {
      "cell_type": "code",
      "metadata": {
        "id": "S6nSDWM3ajZM",
        "colab": {
          "base_uri": "https://localhost:8080/",
          "height": 609
        },
        "outputId": "35129451-53a3-43a2-d1bd-b1df9eae1e5a"
      },
      "source": [
        "plot_history([('baseline', hist_baseline),\n",
        "              ('dropout_strong', hist_dp_1)\n",
        "             ],\n",
        "             start=0)"
      ],
      "execution_count": null,
      "outputs": [
        {
          "output_type": "display_data",
          "data": {
            "image/png": "[encoded data removed]",
            "text/plain": [
              "<Figure size 1152x720 with 1 Axes>"
            ]
          },
          "metadata": {
            "needs_background": "light"
          }
        }
      ]
    },
    {
      "cell_type": "markdown",
      "metadata": {
        "id": "HPH9tC-aajZM"
      },
      "source": [
        "На такой картинке явно видно второй порок-\"недообучение\". Попробуем уменьшить вероятность дропаута."
      ]
    },
    {
      "cell_type": "code",
      "metadata": {
        "id": "B8P36PosajZM"
      },
      "source": [
        "early_stopping_monitor = EarlyStopping(patience = 10)\n",
        "model_dropout = Sequential( )\n",
        "\n",
        "# Первый слой \n",
        "model_dropout.add(L.Dense(25, input_dim = X_train.shape[1], kernel_initializer='random_normal'))\n",
        "model_dropout.add(L.Dropout(0.2)) # слой дропаута уменьшаем вероятность до 0.2\n",
        "model_dropout.add(L.Activation('sigmoid'))\n",
        "\n",
        "# Второй слой \n",
        "model_dropout.add(L.Dense(25, kernel_initializer='random_normal'))\n",
        "model_dropout.add(L.Dropout(0.2)) # тоже уменьшаем вероятность \"выключения\" нейроннов.\n",
        "model_dropout.add(L.Activation('sigmoid'))\n",
        "\n",
        "\n",
        "# Выходной слой \n",
        "model_dropout.add(L.Dense(4, activation='softmax', kernel_initializer = 'random_normal'))\n",
        "\n",
        "# Собираем модель \n",
        "model_dropout.compile(loss = 'categorical_crossentropy', metrics=[\"accuracy\"], optimizer=opt.Adam(lr=1e-3))"
      ],
      "execution_count": null,
      "outputs": []
    },
    {
      "cell_type": "code",
      "metadata": {
        "id": "R5Ix0_pJajZN",
        "colab": {
          "base_uri": "https://localhost:8080/"
        },
        "outputId": "60242665-c9e6-4905-86d9-2dfd6a48124e"
      },
      "source": [
        "hist_dp_2 = model_dropout.fit(X_train, to_categorical(y_train), \n",
        "                         validation_split=0.2, epochs=100, verbose=1, callbacks = [early_stopping_monitor])"
      ],
      "execution_count": null,
      "outputs": [
        {
          "output_type": "stream",
          "name": "stdout",
          "text": [
            "Epoch 1/100\n",
            "535/535 [==============================] - 2s 2ms/step - loss: 1.1348 - accuracy: 0.5171 - val_loss: 0.9805 - val_accuracy: 0.6056\n",
            "Epoch 2/100\n",
            "535/535 [==============================] - 1s 2ms/step - loss: 0.9715 - accuracy: 0.6051 - val_loss: 0.9075 - val_accuracy: 0.6245\n",
            "Epoch 3/100\n",
            "535/535 [==============================] - 1s 2ms/step - loss: 0.9170 - accuracy: 0.6272 - val_loss: 0.8781 - val_accuracy: 0.6416\n",
            "Epoch 4/100\n",
            "535/535 [==============================] - 1s 2ms/step - loss: 0.8983 - accuracy: 0.6354 - val_loss: 0.8739 - val_accuracy: 0.6486\n",
            "Epoch 5/100\n",
            "535/535 [==============================] - 1s 2ms/step - loss: 0.8930 - accuracy: 0.6360 - val_loss: 0.8758 - val_accuracy: 0.6469\n",
            "Epoch 6/100\n",
            "535/535 [==============================] - 1s 2ms/step - loss: 0.8896 - accuracy: 0.6376 - val_loss: 0.8692 - val_accuracy: 0.6444\n",
            "Epoch 7/100\n",
            "535/535 [==============================] - 1s 2ms/step - loss: 0.8840 - accuracy: 0.6364 - val_loss: 0.8707 - val_accuracy: 0.6441\n",
            "Epoch 8/100\n",
            "535/535 [==============================] - 1s 2ms/step - loss: 0.8834 - accuracy: 0.6375 - val_loss: 0.8611 - val_accuracy: 0.6430\n",
            "Epoch 9/100\n",
            "535/535 [==============================] - 1s 2ms/step - loss: 0.8776 - accuracy: 0.6401 - val_loss: 0.8641 - val_accuracy: 0.6425\n",
            "Epoch 10/100\n",
            "535/535 [==============================] - 1s 2ms/step - loss: 0.8777 - accuracy: 0.6382 - val_loss: 0.8605 - val_accuracy: 0.6444\n",
            "Epoch 11/100\n",
            "535/535 [==============================] - 1s 2ms/step - loss: 0.8768 - accuracy: 0.6404 - val_loss: 0.8615 - val_accuracy: 0.6416\n",
            "Epoch 12/100\n",
            "535/535 [==============================] - 1s 2ms/step - loss: 0.8744 - accuracy: 0.6345 - val_loss: 0.8597 - val_accuracy: 0.6453\n",
            "Epoch 13/100\n",
            "535/535 [==============================] - 1s 2ms/step - loss: 0.8721 - accuracy: 0.6401 - val_loss: 0.8564 - val_accuracy: 0.6444\n",
            "Epoch 14/100\n",
            "535/535 [==============================] - 1s 2ms/step - loss: 0.8731 - accuracy: 0.6385 - val_loss: 0.8615 - val_accuracy: 0.6432\n",
            "Epoch 15/100\n",
            "535/535 [==============================] - 1s 2ms/step - loss: 0.8683 - accuracy: 0.6435 - val_loss: 0.8595 - val_accuracy: 0.6465\n",
            "Epoch 16/100\n",
            "535/535 [==============================] - 1s 2ms/step - loss: 0.8686 - accuracy: 0.6396 - val_loss: 0.8530 - val_accuracy: 0.6439\n",
            "Epoch 17/100\n",
            "535/535 [==============================] - 1s 2ms/step - loss: 0.8663 - accuracy: 0.6425 - val_loss: 0.8524 - val_accuracy: 0.6460\n",
            "Epoch 18/100\n",
            "535/535 [==============================] - 1s 2ms/step - loss: 0.8637 - accuracy: 0.6420 - val_loss: 0.8501 - val_accuracy: 0.6474\n",
            "Epoch 19/100\n",
            "535/535 [==============================] - 1s 2ms/step - loss: 0.8665 - accuracy: 0.6431 - val_loss: 0.8498 - val_accuracy: 0.6472\n",
            "Epoch 20/100\n",
            "535/535 [==============================] - 1s 2ms/step - loss: 0.8622 - accuracy: 0.6454 - val_loss: 0.8510 - val_accuracy: 0.6477\n",
            "Epoch 21/100\n",
            "535/535 [==============================] - 1s 2ms/step - loss: 0.8616 - accuracy: 0.6429 - val_loss: 0.8454 - val_accuracy: 0.6493\n",
            "Epoch 22/100\n",
            "535/535 [==============================] - 1s 2ms/step - loss: 0.8595 - accuracy: 0.6439 - val_loss: 0.8430 - val_accuracy: 0.6505\n",
            "Epoch 23/100\n",
            "535/535 [==============================] - 1s 2ms/step - loss: 0.8613 - accuracy: 0.6438 - val_loss: 0.8399 - val_accuracy: 0.6526\n",
            "Epoch 24/100\n",
            "535/535 [==============================] - 1s 2ms/step - loss: 0.8592 - accuracy: 0.6478 - val_loss: 0.8441 - val_accuracy: 0.6507\n",
            "Epoch 25/100\n",
            "535/535 [==============================] - 1s 2ms/step - loss: 0.8563 - accuracy: 0.6446 - val_loss: 0.8419 - val_accuracy: 0.6509\n",
            "Epoch 26/100\n",
            "535/535 [==============================] - 1s 2ms/step - loss: 0.8557 - accuracy: 0.6447 - val_loss: 0.8438 - val_accuracy: 0.6507\n",
            "Epoch 27/100\n",
            "535/535 [==============================] - 1s 2ms/step - loss: 0.8536 - accuracy: 0.6468 - val_loss: 0.8394 - val_accuracy: 0.6521\n",
            "Epoch 28/100\n",
            "535/535 [==============================] - 1s 2ms/step - loss: 0.8542 - accuracy: 0.6465 - val_loss: 0.8376 - val_accuracy: 0.6535\n",
            "Epoch 29/100\n",
            "535/535 [==============================] - 1s 2ms/step - loss: 0.8511 - accuracy: 0.6471 - val_loss: 0.8342 - val_accuracy: 0.6547\n",
            "Epoch 30/100\n",
            "535/535 [==============================] - 1s 2ms/step - loss: 0.8512 - accuracy: 0.6480 - val_loss: 0.8386 - val_accuracy: 0.6530\n",
            "Epoch 31/100\n",
            "535/535 [==============================] - 1s 2ms/step - loss: 0.8512 - accuracy: 0.6436 - val_loss: 0.8421 - val_accuracy: 0.6523\n",
            "Epoch 32/100\n",
            "535/535 [==============================] - 1s 2ms/step - loss: 0.8482 - accuracy: 0.6511 - val_loss: 0.8316 - val_accuracy: 0.6544\n",
            "Epoch 33/100\n",
            "535/535 [==============================] - 1s 2ms/step - loss: 0.8469 - accuracy: 0.6448 - val_loss: 0.8326 - val_accuracy: 0.6549\n",
            "Epoch 34/100\n",
            "535/535 [==============================] - 1s 2ms/step - loss: 0.8488 - accuracy: 0.6473 - val_loss: 0.8335 - val_accuracy: 0.6526\n",
            "Epoch 35/100\n",
            "535/535 [==============================] - 1s 2ms/step - loss: 0.8448 - accuracy: 0.6494 - val_loss: 0.8309 - val_accuracy: 0.6600\n",
            "Epoch 36/100\n",
            "535/535 [==============================] - 1s 2ms/step - loss: 0.8478 - accuracy: 0.6471 - val_loss: 0.8318 - val_accuracy: 0.6593\n",
            "Epoch 37/100\n",
            "535/535 [==============================] - 1s 2ms/step - loss: 0.8444 - accuracy: 0.6515 - val_loss: 0.8324 - val_accuracy: 0.6600\n",
            "Epoch 38/100\n",
            "535/535 [==============================] - 1s 2ms/step - loss: 0.8455 - accuracy: 0.6470 - val_loss: 0.8269 - val_accuracy: 0.6598\n",
            "Epoch 39/100\n",
            "535/535 [==============================] - 1s 2ms/step - loss: 0.8422 - accuracy: 0.6521 - val_loss: 0.8360 - val_accuracy: 0.6568\n",
            "Epoch 40/100\n",
            "535/535 [==============================] - 1s 2ms/step - loss: 0.8444 - accuracy: 0.6493 - val_loss: 0.8291 - val_accuracy: 0.6579\n",
            "Epoch 41/100\n",
            "535/535 [==============================] - 1s 2ms/step - loss: 0.8444 - accuracy: 0.6507 - val_loss: 0.8306 - val_accuracy: 0.6596\n",
            "Epoch 42/100\n",
            "535/535 [==============================] - 1s 2ms/step - loss: 0.8423 - accuracy: 0.6461 - val_loss: 0.8298 - val_accuracy: 0.6544\n",
            "Epoch 43/100\n",
            "535/535 [==============================] - 1s 2ms/step - loss: 0.8414 - accuracy: 0.6492 - val_loss: 0.8231 - val_accuracy: 0.6607\n",
            "Epoch 44/100\n",
            "535/535 [==============================] - 1s 2ms/step - loss: 0.8458 - accuracy: 0.6476 - val_loss: 0.8261 - val_accuracy: 0.6610\n",
            "Epoch 45/100\n",
            "535/535 [==============================] - 1s 2ms/step - loss: 0.8429 - accuracy: 0.6487 - val_loss: 0.8278 - val_accuracy: 0.6589\n",
            "Epoch 46/100\n",
            "535/535 [==============================] - 1s 2ms/step - loss: 0.8393 - accuracy: 0.6487 - val_loss: 0.8250 - val_accuracy: 0.6624\n",
            "Epoch 47/100\n",
            "535/535 [==============================] - 1s 2ms/step - loss: 0.8404 - accuracy: 0.6486 - val_loss: 0.8248 - val_accuracy: 0.6645\n",
            "Epoch 48/100\n",
            "535/535 [==============================] - 1s 2ms/step - loss: 0.8450 - accuracy: 0.6497 - val_loss: 0.8281 - val_accuracy: 0.6612\n",
            "Epoch 49/100\n",
            "535/535 [==============================] - 1s 2ms/step - loss: 0.8427 - accuracy: 0.6452 - val_loss: 0.8233 - val_accuracy: 0.6631\n",
            "Epoch 50/100\n",
            "535/535 [==============================] - 1s 2ms/step - loss: 0.8373 - accuracy: 0.6515 - val_loss: 0.8245 - val_accuracy: 0.6610\n",
            "Epoch 51/100\n",
            "535/535 [==============================] - 1s 2ms/step - loss: 0.8370 - accuracy: 0.6528 - val_loss: 0.8248 - val_accuracy: 0.6603\n",
            "Epoch 52/100\n",
            "535/535 [==============================] - 1s 2ms/step - loss: 0.8405 - accuracy: 0.6481 - val_loss: 0.8275 - val_accuracy: 0.6600\n",
            "Epoch 53/100\n",
            "535/535 [==============================] - 1s 2ms/step - loss: 0.8369 - accuracy: 0.6521 - val_loss: 0.8354 - val_accuracy: 0.6600\n"
          ]
        }
      ]
    },
    {
      "cell_type": "code",
      "metadata": {
        "id": "aWg8KkmQajZN",
        "colab": {
          "base_uri": "https://localhost:8080/",
          "height": 609
        },
        "outputId": "e99935ff-f76e-400d-c5c8-a1649b72fa64"
      },
      "source": [
        "plot_history([('baseline', hist_baseline),\n",
        "              ('dropout_strong', hist_dp_1),\n",
        "              ('dropout_weak', hist_dp_2)\n",
        "             ],\n",
        "             start=0)"
      ],
      "execution_count": null,
      "outputs": [
        {
          "output_type": "display_data",
          "data": {
            "image/png": "[encoded data removed]",
            "text/plain": [
              "<Figure size 1152x720 with 1 Axes>"
            ]
          },
          "metadata": {
            "needs_background": "light"
          }
        }
      ]
    },
    {
      "cell_type": "code",
      "metadata": {
        "id": "kFwPz4EIajZN",
        "colab": {
          "base_uri": "https://localhost:8080/"
        },
        "outputId": "131af70c-e69c-4697-e1fb-610373120ee6"
      },
      "source": [
        "score = model_dropout.evaluate(X_test, to_categorical(y_test), verbose=1)\n",
        "score "
      ],
      "execution_count": null,
      "outputs": [
        {
          "output_type": "stream",
          "name": "stdout",
          "text": [
            "168/168 [==============================] - 0s 1ms/step - loss: 0.8610 - accuracy: 0.6558\n"
          ]
        },
        {
          "output_type": "execute_result",
          "data": {
            "text/plain": [
              "[0.860957682132721, 0.655817449092865]"
            ]
          },
          "metadata": {},
          "execution_count": 74
        }
      ]
    },
    {
      "cell_type": "markdown",
      "metadata": {
        "id": "m3GvJf5RajZO"
      },
      "source": [
        "### 3.3 Регуляризация\n",
        "\n",
        "Теперь добавим к нашей модели штраф на веса. Уменьшив коэффициенты модели, мы её упростим. Тем самым мы предотвратим переобучение.  В keras можно добавить для каждого слоя на три вида связей: \n",
        "\t\n",
        "* kernel\\_regulirizer - на матрицу весов слоя;\n",
        "* bias\\_regulirizer - на вектор свободных членов;\n",
        "* kernel\\_regulirizer - на вектор выходов.\n",
        "\n",
        "\n",
        "\n"
      ]
    },
    {
      "cell_type": "raw",
      "metadata": {
        "id": "Dwb6laNKajZP"
      },
      "source": [
        "from tensorflow.keras import regularizers\n",
        "\n",
        "model.add(Dense(256, inpit_dim = 32,\n",
        "\t kernel_regulirizer = regulizers.l1(0.001),\n",
        "\t bias_regulirizer = regulizers.l2(0.1),\n",
        "\t activity_regulirizer = regulizers.l2(0.01))) "
      ]
    },
    {
      "cell_type": "markdown",
      "metadata": {
        "id": "lAiyDAddajZP"
      },
      "source": [
        "Значение `l2(0.01)` означает, что каждый коэффицент матрицы весов слоя будет добавлять `0.01 * weight_coefficient_value**2` к общей потери сети. Обрати внимание, что штраф добавляется только во время обучения, потери во время этой стадии будут гораздо выше, чем во время проверки."
      ]
    },
    {
      "cell_type": "code",
      "metadata": {
        "id": "0Qgx4Je9ajZQ"
      },
      "source": [
        "early_stopping_monitor = EarlyStopping(patience = 10)\n",
        "from tensorflow.keras import regularizers\n",
        "model_regulasition = Sequential( )\n",
        "\n",
        "# Первый слой \n",
        "model_regulasition.add(L.Dense(25, input_dim = X_train.shape[1], kernel_initializer='random_normal',\n",
        "                          kernel_regularizer=regularizers.l2(0.01)))\n",
        "\n",
        "model_regulasition.add(L.Activation('sigmoid'))\n",
        "\n",
        "# Второй слой \n",
        "model_regulasition.add(L.Dense(25, kernel_initializer='random_normal',\n",
        "                              kernel_regularizer=regularizers.l2(0.01)))\n",
        "\n",
        "model_regulasition.add(L.Activation('sigmoid'))\n",
        "\n",
        "\n",
        "# Выходной слой \n",
        "model_regulasition.add(L.Dense(4, activation='softmax', kernel_initializer = 'random_normal'))\n",
        "\n",
        "# Собираем модель \n",
        "model_regulasition.compile(loss = 'categorical_crossentropy', metrics=[\"accuracy\"], optimizer=opt.Adam(lr=1e-3))"
      ],
      "execution_count": null,
      "outputs": []
    },
    {
      "cell_type": "code",
      "metadata": {
        "id": "zEw8IpznajZQ",
        "colab": {
          "base_uri": "https://localhost:8080/"
        },
        "outputId": "65ff33a5-530e-405d-aff9-55c4e2b5f34a"
      },
      "source": [
        "hist_reg = model_regulasition.fit(X_train, to_categorical(y_train), \n",
        "                         validation_split=0.2, epochs=200, verbose=1,callbacks = [early_stopping_monitor])"
      ],
      "execution_count": null,
      "outputs": [
        {
          "output_type": "stream",
          "name": "stdout",
          "text": [
            "Epoch 1/200\n",
            "535/535 [==============================] - 1s 2ms/step - loss: 1.2223 - accuracy: 0.4025 - val_loss: 1.2187 - val_accuracy: 0.3982\n",
            "Epoch 2/200\n",
            "535/535 [==============================] - 1s 2ms/step - loss: 1.2222 - accuracy: 0.4041 - val_loss: 1.2183 - val_accuracy: 0.3982\n",
            "Epoch 3/200\n",
            "535/535 [==============================] - 1s 2ms/step - loss: 1.2222 - accuracy: 0.4041 - val_loss: 1.2193 - val_accuracy: 0.3982\n",
            "Epoch 4/200\n",
            "535/535 [==============================] - 1s 2ms/step - loss: 1.2225 - accuracy: 0.4041 - val_loss: 1.2185 - val_accuracy: 0.3982\n",
            "Epoch 5/200\n",
            "535/535 [==============================] - 1s 2ms/step - loss: 1.2218 - accuracy: 0.4041 - val_loss: 1.2179 - val_accuracy: 0.3982\n",
            "Epoch 6/200\n",
            "535/535 [==============================] - 1s 2ms/step - loss: 1.2218 - accuracy: 0.4035 - val_loss: 1.2207 - val_accuracy: 0.3982\n",
            "Epoch 7/200\n",
            "535/535 [==============================] - 1s 2ms/step - loss: 1.2224 - accuracy: 0.4041 - val_loss: 1.2187 - val_accuracy: 0.3982\n",
            "Epoch 8/200\n",
            "535/535 [==============================] - 1s 2ms/step - loss: 1.2223 - accuracy: 0.4041 - val_loss: 1.2184 - val_accuracy: 0.3982\n",
            "Epoch 9/200\n",
            "535/535 [==============================] - 1s 2ms/step - loss: 1.2218 - accuracy: 0.4041 - val_loss: 1.2184 - val_accuracy: 0.3982\n",
            "Epoch 10/200\n",
            "535/535 [==============================] - 1s 2ms/step - loss: 1.2220 - accuracy: 0.4042 - val_loss: 1.2191 - val_accuracy: 0.3982\n",
            "Epoch 11/200\n",
            "535/535 [==============================] - 1s 2ms/step - loss: 1.2222 - accuracy: 0.4041 - val_loss: 1.2192 - val_accuracy: 0.3982\n",
            "Epoch 12/200\n",
            "535/535 [==============================] - 1s 2ms/step - loss: 1.2219 - accuracy: 0.4011 - val_loss: 1.2187 - val_accuracy: 0.3982\n",
            "Epoch 13/200\n",
            "535/535 [==============================] - 1s 2ms/step - loss: 1.2220 - accuracy: 0.4041 - val_loss: 1.2180 - val_accuracy: 0.3982\n",
            "Epoch 14/200\n",
            "535/535 [==============================] - 1s 2ms/step - loss: 1.2221 - accuracy: 0.4041 - val_loss: 1.2209 - val_accuracy: 0.3982\n",
            "Epoch 15/200\n",
            "535/535 [==============================] - 1s 2ms/step - loss: 1.2223 - accuracy: 0.4041 - val_loss: 1.2179 - val_accuracy: 0.3982\n"
          ]
        }
      ]
    },
    {
      "cell_type": "code",
      "metadata": {
        "id": "SA2WYMEiajZR",
        "colab": {
          "base_uri": "https://localhost:8080/",
          "height": 609
        },
        "outputId": "aa203fbe-bb58-4396-aca8-fd78be98c02c"
      },
      "source": [
        "plot_history([('baseline', hist_baseline),\n",
        "              ('dropout_strong', hist_dp_1),\n",
        "              ('dropout_weak', hist_dp_2),\n",
        "              ('regular', hist_reg)\n",
        "             ],\n",
        "             start=0)"
      ],
      "execution_count": null,
      "outputs": [
        {
          "output_type": "display_data",
          "data": {
            "image/png": "[encoded data removed]",
            "text/plain": [
              "<Figure size 1152x720 with 1 Axes>"
            ]
          },
          "metadata": {
            "needs_background": "light"
          }
        }
      ]
    },
    {
      "cell_type": "markdown",
      "metadata": {
        "id": "iM3RC3UhajZS"
      },
      "source": [
        "## Различные воспитательные трюки \n",
        "\n",
        "1. Начните с маленькой сети. Не забывайте прикидывать сколько наблюдений $n$ тратится на оценку каждого из $k$ параметров. Если величина $\\frac{n}{k}$ очень маленькая, то не может идти речи об адекватных оценках параметров!  \n",
        "2. Всегда оставляйте часть выборки под валидацию на каждой эпохе.\n",
        "3. Усложняйте модель, пока качество на валидации не начнёт падать.\n",
        "4. Не забывайте проскалировать ваши наблюдения для лучшей сходимости. \n",
        "5. Можно попробовать ещё целую серию различных **трюков**: \n",
        "\n",
        "\n",
        "* __Архитектура нейросети__\n",
        "    * Больше/меньше нейронов\n",
        "    * Больше/меньше слоёв \n",
        "    * Другие функции активации (tanh, relu, leaky relu, elu etc) \n",
        "    * Регуляризация (dropout, l1,l2) \n",
        "\n",
        "\n",
        "* __Более качественная оптимизация__  \n",
        "    * Можно попробовать выбрать другой метод оптимизации \n",
        "    * Можно попробовать менять скорость обучения, моментум и др.\n",
        "    * Разные начальные значения весов\n",
        "\n",
        "\n",
        "* __Попробовать собрать больше данных__ \n",
        "* __Для случая картинок объёмы данных можно увеличить искусственно с помощью подхода, который называется Data augmemntation, но об этом позже__\n",
        "\n",
        "И это далеко не полный список. Обратите внимание, что делать grid_search для больших сеток это довольно времязатратное занятие... "
      ]
    },
    {
      "cell_type": "markdown",
      "metadata": {
        "id": "YiBzrqpyajZS"
      },
      "source": [
        "## 4. Эксперименты \n",
        "\n",
        "Наверняка, у каждого в голове возникла какая-то классная идея по улучшению нашей базовой архитектуры. Пора реализовать её! Если идей нет, попробуйте: \n",
        "\n",
        "- Поменять функции активации на elu или сигмоиды\n",
        "- Увеличить размер архитектуры \n",
        "- Увеличить или уменьшить вероятность дропауте\n",
        "\n",
        "Не забывайте сохранять историю обучения и закидывать её на наш график для сравнения. Когда надоест, посмотрите на итоговое качество модели на тесте. А то по валидации и переобучиться можно :) "
      ]
    },
    {
      "cell_type": "code",
      "metadata": {
        "id": "biyvbYp7ajZS"
      },
      "source": [
        "# Ваши эксперименты и код для них! "
      ],
      "execution_count": null,
      "outputs": []
    },
    {
      "cell_type": "markdown",
      "metadata": {
        "id": "HKGwIyEvajZT"
      },
      "source": [
        " "
      ]
    },
    {
      "cell_type": "code",
      "metadata": {
        "id": "AlWRDTcgCFL0"
      },
      "source": [
        ""
      ],
      "execution_count": null,
      "outputs": []
    }
  ]
}